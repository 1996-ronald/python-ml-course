{
 "cells": [
  {
   "cell_type": "markdown",
   "metadata": {},
   "source": [
    "<a href=\"https://colab.research.google.com/github/joanby/python-ml-course/blob/master/notebooks/T2_3_Data_Cleaning_Agrupación_de_datos_colab.ipynb\" target=\"_parent\"><img src=\"https://colab.research.google.com/assets/colab-badge.svg\" alt=\"Open In Colab\"/></a>"
   ]
  },
  {
   "cell_type": "markdown",
   "metadata": {
    "colab_type": "text",
    "id": "eoi2PSszgXov"
   },
   "source": [
    "# Clonamos el repositorio para obtener los dataSet"
   ]
  },
  {
   "cell_type": "code",
   "execution_count": 1,
   "metadata": {
    "colab": {
     "base_uri": "https://localhost:8080/",
     "height": 119
    },
    "colab_type": "code",
    "id": "Y6F6dw-ogXkG",
    "outputId": "4469cc23-9dca-46ed-9b47-ead97c1fb5a3"
   },
   "outputs": [
    {
     "name": "stdout",
     "output_type": "stream",
     "text": [
      "Cloning into 'python-ml-course'...\n",
      "remote: Enumerating objects: 17387, done.\u001b[K\n",
      "remote: Total 17387 (delta 0), reused 0 (delta 0), pack-reused 17387\u001b[K\n",
      "Receiving objects: 100% (17387/17387), 512.33 MiB | 27.58 MiB/s, done.\n",
      "Resolving deltas: 100% (128/128), done.\n",
      "Checking out files: 100% (16900/16900), done.\n"
     ]
    }
   ],
   "source": [
    "!git clone https://github.com/joanby/python-ml-course.git"
   ]
  },
  {
   "cell_type": "markdown",
   "metadata": {
    "colab_type": "text",
    "id": "ugoaehSfgXfg"
   },
   "source": [
    "# Damos acceso a nuestro Drive"
   ]
  },
  {
   "cell_type": "code",
   "execution_count": null,
   "metadata": {
    "colab": {},
    "colab_type": "code",
    "id": "S0Gks91xgXbN"
   },
   "outputs": [],
   "source": [
    "from google.colab import drive\n",
    "drive.mount('/content/drive')"
   ]
  },
  {
   "cell_type": "markdown",
   "metadata": {
    "colab_type": "text",
    "id": "rcigOyTKgXWP"
   },
   "source": [
    "# Test it"
   ]
  },
  {
   "cell_type": "code",
   "execution_count": 2,
   "metadata": {
    "colab": {
     "base_uri": "https://localhost:8080/",
     "height": 34
    },
    "colab_type": "code",
    "id": "qoS6WOnRgXR3",
    "outputId": "9e0d3989-bf1b-4bd4-fee9-589f8f6084b3"
   },
   "outputs": [
    {
     "name": "stdout",
     "output_type": "stream",
     "text": [
      "ls: cannot access '/content/drive/My Drive': No such file or directory\n"
     ]
    }
   ],
   "source": [
    "!ls '/content/drive/My Drive' "
   ]
  },
  {
   "cell_type": "markdown",
   "metadata": {
    "colab_type": "text",
    "id": "Xbhp91pCgXNM"
   },
   "source": [
    "# Google colab tools"
   ]
  },
  {
   "cell_type": "code",
   "execution_count": 2,
   "metadata": {
    "colab": {},
    "colab_type": "code",
    "id": "MasMVmTugXI7"
   },
   "outputs": [],
   "source": [
    "from google.colab import files # Para manejar los archivos y, por ejemplo, exportar a su navegador\n",
    "import glob # Para manejar los archivos y, por ejemplo, exportar a su navegador\n",
    "from google.colab import drive # Montar tu Google drive"
   ]
  },
  {
   "cell_type": "markdown",
   "metadata": {
    "colab_type": "text",
    "id": "_3iVIJYNgXDj"
   },
   "source": [
    "# Python3.8"
   ]
  },
  {
   "cell_type": "markdown",
   "metadata": {
    "colab_type": "text",
    "id": "l3qEGuu9goD-"
   },
   "source": [
    "# Colab no permite actualizar la version de python, asi que utilizamos miniconda"
   ]
  },
  {
   "cell_type": "markdown",
   "metadata": {
    "colab_type": "text",
    "id": "sSn1JEx9gph_"
   },
   "source": [
    "### Tener paciencia y esperar 1 minuto"
   ]
  },
  {
   "cell_type": "code",
   "execution_count": 3,
   "metadata": {
    "colab": {},
    "colab_type": "code",
    "id": "uhGznsF4gW-f"
   },
   "outputs": [],
   "source": [
    "!wget -O mini.sh https://repo.anaconda.com/miniconda/Miniconda3-latest-Linux-x86_64.sh > /dev/null 2>&1\n",
    "!chmod +x mini.sh\n",
    "!bash ./mini.sh -b -f -p /usr/local > /dev/null 2>&1\n",
    "!conda install -q -y --prefix /usr/local jupyter > /dev/null 2>&1\n",
    "!python -m ipykernel install --name \"py38\" --user > /dev/null 2>&1"
   ]
  },
  {
   "cell_type": "markdown",
   "metadata": {
    "colab_type": "text",
    "id": "9GfTMq_kgW47"
   },
   "source": [
    "### La celda de abajo, ejecutar cada vez que reinicies el kernel."
   ]
  },
  {
   "cell_type": "code",
   "execution_count": 4,
   "metadata": {
    "colab": {
     "base_uri": "https://localhost:8080/",
     "height": 187
    },
    "colab_type": "code",
    "id": "XBV7fjo8gW0H",
    "outputId": "970c6051-ddc4-494e-a0ca-12d99e8f58b5"
   },
   "outputs": [
    {
     "data": {
      "text/plain": [
       "['/usr/local/lib/python3.8/site-packages',\n",
       " '',\n",
       " '/env/python',\n",
       " '/usr/lib/python36.zip',\n",
       " '/usr/lib/python3.6',\n",
       " '/usr/lib/python3.6/lib-dynload',\n",
       " '/usr/local/lib/python3.6/dist-packages',\n",
       " '/usr/lib/python3/dist-packages',\n",
       " '/usr/local/lib/python3.6/dist-packages/IPython/extensions',\n",
       " '/root/.ipython']"
      ]
     },
     "execution_count": 4,
     "metadata": {
      "tags": []
     },
     "output_type": "execute_result"
    }
   ],
   "source": [
    "import sys\n",
    "#si usamos append nos coge la libreria de python3.6, ya que el so lee de forma secuencial la lista de librerias\n",
    "_ = (sys.path.insert(0,\"/usr/local/lib/python3.8/site-packages\")) #folder librerias python\n",
    "sys.path"
   ]
  },
  {
   "cell_type": "code",
   "execution_count": 129,
   "metadata": {
    "colab": {
     "base_uri": "https://localhost:8080/",
     "height": 102
    },
    "colab_type": "code",
    "id": "8jzQkQoggWm0",
    "outputId": "3b562cb9-1f08-4f2b-a811-8b0754c09a82"
   },
   "outputs": [
    {
     "name": "stdout",
     "output_type": "stream",
     "text": [
      "Collecting package metadata (current_repodata.json): - \b\b\\ \b\b| \b\b/ \b\b- \b\b\\ \b\b| \b\b/ \b\b- \b\b\\ \b\b| \b\b/ \b\b- \b\b\\ \b\b| \b\b/ \b\b- \b\b\\ \b\bdone\n",
      "Solving environment: / \b\b- \b\b\\ \b\b| \b\b/ \b\b- \b\b\\ \b\b| \b\b/ \b\b- \b\b\\ \b\b| \b\b/ \b\b- \b\b\\ \b\b| \b\b/ \b\b- \b\b\\ \b\b| \b\b/ \b\b- \b\b\\ \b\b| \b\b/ \b\b- \b\b\\ \b\b| \b\b/ \b\b- \b\b\\ \b\bdone\n",
      "\n",
      "# All requested packages already installed.\n",
      "\n"
     ]
    }
   ],
   "source": [
    "!conda install numpy scipy==1.4.1 sklearn matplotlib pandas --yes > /dev/null 2>&1\n",
    "!conda install -c conda-forge statsmodels  --yes > /dev/null 2>&1\n",
    "#!conda install --channel conda-forge featuretools --yes > /dev/null 2>&1\n",
    "!conda install -c conda-forge statsmodels"
   ]
  },
  {
   "cell_type": "code",
   "execution_count": 130,
   "metadata": {
    "colab": {
     "base_uri": "https://localhost:8080/",
     "height": 34
    },
    "colab_type": "code",
    "id": "xeq_9kWRgWbu",
    "outputId": "6375e8e0-ed14-4e22-a5ae-a8662be8bf26"
   },
   "outputs": [
    {
     "name": "stdout",
     "output_type": "stream",
     "text": [
      "Python 3.8.3\n"
     ]
    }
   ],
   "source": [
    "!python3 --version"
   ]
  },
  {
   "cell_type": "code",
   "execution_count": 65,
   "metadata": {
    "colab": {
     "base_uri": "https://localhost:8080/",
     "height": 34
    },
    "colab_type": "code",
    "id": "QqCqDptIpuNF",
    "outputId": "379aea47-ed8e-4357-9ab8-e0024830ca62"
   },
   "outputs": [
    {
     "name": "stdout",
     "output_type": "stream",
     "text": [
      "1.4.1\n"
     ]
    }
   ],
   "source": [
    "import scipy\n",
    "print(scipy.__version__)"
   ]
  },
  {
   "cell_type": "markdown",
   "metadata": {
    "colab_type": "text",
    "id": "HwqfJnxXgSWH"
   },
   "source": [
    "# Agregación de datos por categoría"
   ]
  },
  {
   "cell_type": "code",
   "execution_count": 131,
   "metadata": {
    "colab": {},
    "colab_type": "code",
    "id": "uW34zAlUgSWI"
   },
   "outputs": [],
   "source": [
    "import numpy as np\n",
    "import pandas as pd"
   ]
  },
  {
   "cell_type": "code",
   "execution_count": 132,
   "metadata": {
    "colab": {},
    "colab_type": "code",
    "id": "Wm4KLguMgSWL"
   },
   "outputs": [],
   "source": [
    "gender = [\"Male\", \"Female\"]\n",
    "income = [\"Poor\", \"Middle Class\", \"Rich\"]"
   ]
  },
  {
   "cell_type": "code",
   "execution_count": 133,
   "metadata": {
    "colab": {},
    "colab_type": "code",
    "id": "goAyxm4YgSWN"
   },
   "outputs": [],
   "source": [
    "n = 500\n",
    "\n",
    "gender_data = []\n",
    "income_data = []\n",
    "\n",
    "for i in range(0,500):\n",
    "    gender_data.append(np.random.choice(gender))\n",
    "    income_data.append(np.random.choice(income))"
   ]
  },
  {
   "cell_type": "code",
   "execution_count": 134,
   "metadata": {
    "colab": {
     "base_uri": "https://localhost:8080/",
     "height": 170
    },
    "colab_type": "code",
    "id": "CiHrJIv9gSWP",
    "outputId": "d31847c0-e310-4901-a10c-056dc0bf53be"
   },
   "outputs": [
    {
     "data": {
      "text/plain": [
       "['Female',\n",
       " 'Male',\n",
       " 'Female',\n",
       " 'Male',\n",
       " 'Male',\n",
       " 'Male',\n",
       " 'Female',\n",
       " 'Male',\n",
       " 'Female']"
      ]
     },
     "execution_count": 134,
     "metadata": {
      "tags": []
     },
     "output_type": "execute_result"
    }
   ],
   "source": [
    "gender_data[1:10]"
   ]
  },
  {
   "cell_type": "code",
   "execution_count": 135,
   "metadata": {
    "colab": {
     "base_uri": "https://localhost:8080/",
     "height": 170
    },
    "colab_type": "code",
    "id": "6Q3BFzergSWS",
    "outputId": "4af4e826-3082-4071-cde8-20f885ca6bc2"
   },
   "outputs": [
    {
     "data": {
      "text/plain": [
       "['Poor',\n",
       " 'Rich',\n",
       " 'Poor',\n",
       " 'Rich',\n",
       " 'Poor',\n",
       " 'Rich',\n",
       " 'Rich',\n",
       " 'Middle Class',\n",
       " 'Poor']"
      ]
     },
     "execution_count": 135,
     "metadata": {
      "tags": []
     },
     "output_type": "execute_result"
    }
   ],
   "source": [
    "income_data[1:10]"
   ]
  },
  {
   "cell_type": "code",
   "execution_count": 136,
   "metadata": {
    "colab": {},
    "colab_type": "code",
    "id": "G5JZjxfMgSWU"
   },
   "outputs": [],
   "source": [
    "#Z -> N(0,1)\n",
    "#N(m, s) -> m + s * Z\n",
    "height = 160 + 30 * np.random.randn(n)\n",
    "weight = 65 + 25 * np.random.randn(n)\n",
    "age = 30 + 12 * np.random.randn(n)\n",
    "income = 18000 + 3500 * np.random.rand(n)"
   ]
  },
  {
   "cell_type": "code",
   "execution_count": 137,
   "metadata": {
    "colab": {},
    "colab_type": "code",
    "id": "k5L3I8K0gSWW"
   },
   "outputs": [],
   "source": [
    "data = pd.DataFrame(\n",
    "    {\n",
    "        \"Gender\" : gender_data,\n",
    "        \"Economic Status\" : income_data,\n",
    "        \"Height\" : height,\n",
    "        \"Weight\" : weight,\n",
    "        \"Age\" : age,\n",
    "        \"Income\" : income\n",
    "    }\n",
    ")"
   ]
  },
  {
   "cell_type": "code",
   "execution_count": 138,
   "metadata": {
    "colab": {
     "base_uri": "https://localhost:8080/",
     "height": 204
    },
    "colab_type": "code",
    "id": "ohfK7ArrgSWZ",
    "outputId": "3f55a5bf-7b63-4e30-f9ed-63e8dfc5e758"
   },
   "outputs": [
    {
     "data": {
      "text/html": [
       "<div>\n",
       "<style scoped>\n",
       "    .dataframe tbody tr th:only-of-type {\n",
       "        vertical-align: middle;\n",
       "    }\n",
       "\n",
       "    .dataframe tbody tr th {\n",
       "        vertical-align: top;\n",
       "    }\n",
       "\n",
       "    .dataframe thead th {\n",
       "        text-align: right;\n",
       "    }\n",
       "</style>\n",
       "<table border=\"1\" class=\"dataframe\">\n",
       "  <thead>\n",
       "    <tr style=\"text-align: right;\">\n",
       "      <th></th>\n",
       "      <th>Gender</th>\n",
       "      <th>Economic Status</th>\n",
       "      <th>Height</th>\n",
       "      <th>Weight</th>\n",
       "      <th>Age</th>\n",
       "      <th>Income</th>\n",
       "    </tr>\n",
       "  </thead>\n",
       "  <tbody>\n",
       "    <tr>\n",
       "      <th>0</th>\n",
       "      <td>Female</td>\n",
       "      <td>Poor</td>\n",
       "      <td>166.804007</td>\n",
       "      <td>59.112901</td>\n",
       "      <td>37.322058</td>\n",
       "      <td>18479.703295</td>\n",
       "    </tr>\n",
       "    <tr>\n",
       "      <th>1</th>\n",
       "      <td>Female</td>\n",
       "      <td>Poor</td>\n",
       "      <td>155.776681</td>\n",
       "      <td>80.348638</td>\n",
       "      <td>48.058395</td>\n",
       "      <td>19540.217722</td>\n",
       "    </tr>\n",
       "    <tr>\n",
       "      <th>2</th>\n",
       "      <td>Male</td>\n",
       "      <td>Rich</td>\n",
       "      <td>135.687605</td>\n",
       "      <td>40.163796</td>\n",
       "      <td>19.084108</td>\n",
       "      <td>20085.354380</td>\n",
       "    </tr>\n",
       "    <tr>\n",
       "      <th>3</th>\n",
       "      <td>Female</td>\n",
       "      <td>Poor</td>\n",
       "      <td>186.693759</td>\n",
       "      <td>59.443447</td>\n",
       "      <td>30.124853</td>\n",
       "      <td>19071.254341</td>\n",
       "    </tr>\n",
       "    <tr>\n",
       "      <th>4</th>\n",
       "      <td>Male</td>\n",
       "      <td>Rich</td>\n",
       "      <td>155.881569</td>\n",
       "      <td>98.230917</td>\n",
       "      <td>34.037907</td>\n",
       "      <td>19062.009257</td>\n",
       "    </tr>\n",
       "  </tbody>\n",
       "</table>\n",
       "</div>"
      ],
      "text/plain": [
       "   Gender Economic Status      Height     Weight        Age        Income\n",
       "0  Female            Poor  166.804007  59.112901  37.322058  18479.703295\n",
       "1  Female            Poor  155.776681  80.348638  48.058395  19540.217722\n",
       "2    Male            Rich  135.687605  40.163796  19.084108  20085.354380\n",
       "3  Female            Poor  186.693759  59.443447  30.124853  19071.254341\n",
       "4    Male            Rich  155.881569  98.230917  34.037907  19062.009257"
      ]
     },
     "execution_count": 138,
     "metadata": {
      "tags": []
     },
     "output_type": "execute_result"
    }
   ],
   "source": [
    "data.head()"
   ]
  },
  {
   "cell_type": "markdown",
   "metadata": {
    "colab_type": "text",
    "id": "uCxys2q_gSWb"
   },
   "source": [
    "## Agrupación de datos"
   ]
  },
  {
   "cell_type": "code",
   "execution_count": 139,
   "metadata": {
    "colab": {},
    "colab_type": "code",
    "id": "0bJnylJ1gSWb"
   },
   "outputs": [],
   "source": [
    "grouped_gender = data.groupby(\"Gender\")"
   ]
  },
  {
   "cell_type": "code",
   "execution_count": 140,
   "metadata": {
    "colab": {
     "base_uri": "https://localhost:8080/",
     "height": 153
    },
    "colab_type": "code",
    "id": "C8hxGoTsgSWd",
    "outputId": "8d3abde1-3193-456f-db44-cbaaf82a8117"
   },
   "outputs": [
    {
     "data": {
      "text/plain": [
       "{'Female': Int64Index([  0,   1,   3,   7,   9,  11,  12,  13,  15,  16,\n",
       "             ...\n",
       "             480, 482, 484, 485, 486, 488, 490, 492, 496, 497],\n",
       "            dtype='int64', length=266),\n",
       " 'Male': Int64Index([  2,   4,   5,   6,   8,  10,  14,  17,  20,  21,\n",
       "             ...\n",
       "             481, 483, 487, 489, 491, 493, 494, 495, 498, 499],\n",
       "            dtype='int64', length=234)}"
      ]
     },
     "execution_count": 140,
     "metadata": {
      "tags": []
     },
     "output_type": "execute_result"
    }
   ],
   "source": [
    "grouped_gender.groups"
   ]
  },
  {
   "cell_type": "code",
   "execution_count": 141,
   "metadata": {
    "colab": {
     "base_uri": "https://localhost:8080/",
     "height": 527
    },
    "colab_type": "code",
    "id": "gNTVzqj1gSWf",
    "outputId": "dd68c7de-5bf0-4188-be23-4598aa944251"
   },
   "outputs": [
    {
     "name": "stdout",
     "output_type": "stream",
     "text": [
      "Female\n",
      "     Gender Economic Status      Height     Weight        Age        Income\n",
      "0    Female            Poor  166.804007  59.112901  37.322058  18479.703295\n",
      "1    Female            Poor  155.776681  80.348638  48.058395  19540.217722\n",
      "3    Female            Poor  186.693759  59.443447  30.124853  19071.254341\n",
      "7    Female            Rich  171.331760  52.748110  41.595709  18869.794537\n",
      "9    Female            Poor  204.735808  53.297567  31.837990  19708.750156\n",
      "..      ...             ...         ...        ...        ...           ...\n",
      "488  Female            Rich  116.433729  67.786665  13.431846  19301.252637\n",
      "490  Female            Poor  216.337448  60.930051   7.708013  20342.374711\n",
      "492  Female    Middle Class  135.617267  53.615845  57.641346  19790.519611\n",
      "496  Female            Poor   89.407098  58.660913  36.363020  18898.518293\n",
      "497  Female            Rich  191.195269  50.343440  38.098379  21155.929414\n",
      "\n",
      "[266 rows x 6 columns]\n",
      "Male\n",
      "    Gender Economic Status      Height      Weight        Age        Income\n",
      "2     Male            Rich  135.687605   40.163796  19.084108  20085.354380\n",
      "4     Male            Rich  155.881569   98.230917  34.037907  19062.009257\n",
      "5     Male            Poor  176.352323   50.325117   1.459394  19448.821974\n",
      "6     Male            Rich  187.753234   57.855031  26.753713  18314.795045\n",
      "8     Male    Middle Class  161.440085   76.598448  18.960791  19117.523237\n",
      "..     ...             ...         ...         ...        ...           ...\n",
      "493   Male            Poor  141.041498   76.979606  16.746270  18677.352683\n",
      "494   Male            Rich  181.991855   66.373735  46.763736  20597.266530\n",
      "495   Male            Rich  182.833879    3.462761  62.882954  21026.843517\n",
      "498   Male            Poor   89.600419   42.680898  40.536927  18131.271636\n",
      "499   Male            Poor  212.222116  119.605441  31.710433  18619.657768\n",
      "\n",
      "[234 rows x 6 columns]\n"
     ]
    }
   ],
   "source": [
    "for names, groups in grouped_gender:\n",
    "    print(names)\n",
    "    print(groups)"
   ]
  },
  {
   "cell_type": "code",
   "execution_count": 142,
   "metadata": {
    "colab": {
     "base_uri": "https://localhost:8080/",
     "height": 419
    },
    "colab_type": "code",
    "id": "b33q4-ArgSWh",
    "outputId": "e6c2fa05-003e-46ab-8500-69bfa7e65321"
   },
   "outputs": [
    {
     "data": {
      "text/html": [
       "<div>\n",
       "<style scoped>\n",
       "    .dataframe tbody tr th:only-of-type {\n",
       "        vertical-align: middle;\n",
       "    }\n",
       "\n",
       "    .dataframe tbody tr th {\n",
       "        vertical-align: top;\n",
       "    }\n",
       "\n",
       "    .dataframe thead th {\n",
       "        text-align: right;\n",
       "    }\n",
       "</style>\n",
       "<table border=\"1\" class=\"dataframe\">\n",
       "  <thead>\n",
       "    <tr style=\"text-align: right;\">\n",
       "      <th></th>\n",
       "      <th>Gender</th>\n",
       "      <th>Economic Status</th>\n",
       "      <th>Height</th>\n",
       "      <th>Weight</th>\n",
       "      <th>Age</th>\n",
       "      <th>Income</th>\n",
       "    </tr>\n",
       "  </thead>\n",
       "  <tbody>\n",
       "    <tr>\n",
       "      <th>0</th>\n",
       "      <td>Female</td>\n",
       "      <td>Poor</td>\n",
       "      <td>166.804007</td>\n",
       "      <td>59.112901</td>\n",
       "      <td>37.322058</td>\n",
       "      <td>18479.703295</td>\n",
       "    </tr>\n",
       "    <tr>\n",
       "      <th>1</th>\n",
       "      <td>Female</td>\n",
       "      <td>Poor</td>\n",
       "      <td>155.776681</td>\n",
       "      <td>80.348638</td>\n",
       "      <td>48.058395</td>\n",
       "      <td>19540.217722</td>\n",
       "    </tr>\n",
       "    <tr>\n",
       "      <th>3</th>\n",
       "      <td>Female</td>\n",
       "      <td>Poor</td>\n",
       "      <td>186.693759</td>\n",
       "      <td>59.443447</td>\n",
       "      <td>30.124853</td>\n",
       "      <td>19071.254341</td>\n",
       "    </tr>\n",
       "    <tr>\n",
       "      <th>7</th>\n",
       "      <td>Female</td>\n",
       "      <td>Rich</td>\n",
       "      <td>171.331760</td>\n",
       "      <td>52.748110</td>\n",
       "      <td>41.595709</td>\n",
       "      <td>18869.794537</td>\n",
       "    </tr>\n",
       "    <tr>\n",
       "      <th>9</th>\n",
       "      <td>Female</td>\n",
       "      <td>Poor</td>\n",
       "      <td>204.735808</td>\n",
       "      <td>53.297567</td>\n",
       "      <td>31.837990</td>\n",
       "      <td>19708.750156</td>\n",
       "    </tr>\n",
       "    <tr>\n",
       "      <th>...</th>\n",
       "      <td>...</td>\n",
       "      <td>...</td>\n",
       "      <td>...</td>\n",
       "      <td>...</td>\n",
       "      <td>...</td>\n",
       "      <td>...</td>\n",
       "    </tr>\n",
       "    <tr>\n",
       "      <th>488</th>\n",
       "      <td>Female</td>\n",
       "      <td>Rich</td>\n",
       "      <td>116.433729</td>\n",
       "      <td>67.786665</td>\n",
       "      <td>13.431846</td>\n",
       "      <td>19301.252637</td>\n",
       "    </tr>\n",
       "    <tr>\n",
       "      <th>490</th>\n",
       "      <td>Female</td>\n",
       "      <td>Poor</td>\n",
       "      <td>216.337448</td>\n",
       "      <td>60.930051</td>\n",
       "      <td>7.708013</td>\n",
       "      <td>20342.374711</td>\n",
       "    </tr>\n",
       "    <tr>\n",
       "      <th>492</th>\n",
       "      <td>Female</td>\n",
       "      <td>Middle Class</td>\n",
       "      <td>135.617267</td>\n",
       "      <td>53.615845</td>\n",
       "      <td>57.641346</td>\n",
       "      <td>19790.519611</td>\n",
       "    </tr>\n",
       "    <tr>\n",
       "      <th>496</th>\n",
       "      <td>Female</td>\n",
       "      <td>Poor</td>\n",
       "      <td>89.407098</td>\n",
       "      <td>58.660913</td>\n",
       "      <td>36.363020</td>\n",
       "      <td>18898.518293</td>\n",
       "    </tr>\n",
       "    <tr>\n",
       "      <th>497</th>\n",
       "      <td>Female</td>\n",
       "      <td>Rich</td>\n",
       "      <td>191.195269</td>\n",
       "      <td>50.343440</td>\n",
       "      <td>38.098379</td>\n",
       "      <td>21155.929414</td>\n",
       "    </tr>\n",
       "  </tbody>\n",
       "</table>\n",
       "<p>266 rows × 6 columns</p>\n",
       "</div>"
      ],
      "text/plain": [
       "     Gender Economic Status      Height     Weight        Age        Income\n",
       "0    Female            Poor  166.804007  59.112901  37.322058  18479.703295\n",
       "1    Female            Poor  155.776681  80.348638  48.058395  19540.217722\n",
       "3    Female            Poor  186.693759  59.443447  30.124853  19071.254341\n",
       "7    Female            Rich  171.331760  52.748110  41.595709  18869.794537\n",
       "9    Female            Poor  204.735808  53.297567  31.837990  19708.750156\n",
       "..      ...             ...         ...        ...        ...           ...\n",
       "488  Female            Rich  116.433729  67.786665  13.431846  19301.252637\n",
       "490  Female            Poor  216.337448  60.930051   7.708013  20342.374711\n",
       "492  Female    Middle Class  135.617267  53.615845  57.641346  19790.519611\n",
       "496  Female            Poor   89.407098  58.660913  36.363020  18898.518293\n",
       "497  Female            Rich  191.195269  50.343440  38.098379  21155.929414\n",
       "\n",
       "[266 rows x 6 columns]"
      ]
     },
     "execution_count": 142,
     "metadata": {
      "tags": []
     },
     "output_type": "execute_result"
    }
   ],
   "source": [
    "grouped_gender.get_group(\"Female\")"
   ]
  },
  {
   "cell_type": "code",
   "execution_count": 143,
   "metadata": {
    "colab": {},
    "colab_type": "code",
    "id": "0hgNuxVrgSWj"
   },
   "outputs": [],
   "source": [
    "double_group = data.groupby([\"Gender\", \"Economic Status\"])"
   ]
  },
  {
   "cell_type": "code",
   "execution_count": 144,
   "metadata": {
    "colab": {
     "base_uri": "https://localhost:8080/",
     "height": 34
    },
    "colab_type": "code",
    "id": "-GWmBsP8gSWl",
    "outputId": "e8945bc8-7411-43c5-c863-0e93fbacae4d"
   },
   "outputs": [
    {
     "data": {
      "text/plain": [
       "6"
      ]
     },
     "execution_count": 144,
     "metadata": {
      "tags": []
     },
     "output_type": "execute_result"
    }
   ],
   "source": [
    "len(double_group)"
   ]
  },
  {
   "cell_type": "code",
   "execution_count": 145,
   "metadata": {
    "colab": {
     "base_uri": "https://localhost:8080/",
     "height": 1000
    },
    "colab_type": "code",
    "id": "5QkByS78gSWn",
    "outputId": "877cc095-71a8-4453-d1ac-ba63e5d747bd"
   },
   "outputs": [
    {
     "name": "stdout",
     "output_type": "stream",
     "text": [
      "('Female', 'Middle Class')\n",
      "     Gender Economic Status      Height     Weight        Age        Income\n",
      "30   Female    Middle Class  148.732551  87.428975  32.774006  21242.814003\n",
      "31   Female    Middle Class  144.749048  49.634700  28.973936  19872.120376\n",
      "32   Female    Middle Class  200.139184  90.654814  35.238706  18445.773081\n",
      "40   Female    Middle Class  190.019439  49.763757  29.144677  19348.035707\n",
      "50   Female    Middle Class  142.590001  78.038883  14.351897  19831.939024\n",
      "..      ...             ...         ...        ...        ...           ...\n",
      "469  Female    Middle Class  109.096617  98.867796  15.887681  19876.821257\n",
      "472  Female    Middle Class  224.883553  64.262493  21.139166  20524.571692\n",
      "485  Female    Middle Class  151.474128  21.408544  34.157740  20431.203299\n",
      "486  Female    Middle Class  124.881212  72.683705  41.582406  20302.598628\n",
      "492  Female    Middle Class  135.617267  53.615845  57.641346  19790.519611\n",
      "\n",
      "[93 rows x 6 columns]\n",
      "('Female', 'Poor')\n",
      "     Gender Economic Status      Height     Weight        Age        Income\n",
      "0    Female            Poor  166.804007  59.112901  37.322058  18479.703295\n",
      "1    Female            Poor  155.776681  80.348638  48.058395  19540.217722\n",
      "3    Female            Poor  186.693759  59.443447  30.124853  19071.254341\n",
      "9    Female            Poor  204.735808  53.297567  31.837990  19708.750156\n",
      "13   Female            Poor  154.155773  82.911561  33.441706  19105.891567\n",
      "..      ...             ...         ...        ...        ...           ...\n",
      "477  Female            Poor  159.080170  70.987214  17.869256  19363.801941\n",
      "482  Female            Poor  220.539789  74.862677  34.523058  18692.088964\n",
      "484  Female            Poor  125.539102  80.948954   5.366809  20174.781953\n",
      "490  Female            Poor  216.337448  60.930051   7.708013  20342.374711\n",
      "496  Female            Poor   89.407098  58.660913  36.363020  18898.518293\n",
      "\n",
      "[92 rows x 6 columns]\n",
      "('Female', 'Rich')\n",
      "     Gender Economic Status      Height     Weight        Age        Income\n",
      "7    Female            Rich  171.331760  52.748110  41.595709  18869.794537\n",
      "11   Female            Rich  205.887054  41.034728  42.424787  20259.746957\n",
      "12   Female            Rich  164.739304  59.154876  37.449029  20496.148638\n",
      "16   Female            Rich  162.939524  37.611982  43.303414  19199.656734\n",
      "19   Female            Rich  162.593269  60.356911  38.153050  18337.267824\n",
      "..      ...             ...         ...        ...        ...           ...\n",
      "475  Female            Rich  188.474352  65.519410  41.254263  20918.354002\n",
      "479  Female            Rich  124.292017  30.632988  46.804229  20293.524042\n",
      "480  Female            Rich  149.154890  79.802902  10.812490  20925.112014\n",
      "488  Female            Rich  116.433729  67.786665  13.431846  19301.252637\n",
      "497  Female            Rich  191.195269  50.343440  38.098379  21155.929414\n",
      "\n",
      "[81 rows x 6 columns]\n",
      "('Male', 'Middle Class')\n",
      "    Gender Economic Status      Height      Weight        Age        Income\n",
      "8     Male    Middle Class  161.440085   76.598448  18.960791  19117.523237\n",
      "14    Male    Middle Class  161.915389  101.256884  39.424043  19780.095667\n",
      "28    Male    Middle Class  157.961941   89.704569  30.440260  21018.107426\n",
      "47    Male    Middle Class  113.904300   47.676357  29.940958  18653.196005\n",
      "48    Male    Middle Class  152.526392   82.804451  23.429900  20136.232745\n",
      "..     ...             ...         ...         ...        ...           ...\n",
      "444   Male    Middle Class  102.708299   41.887666  23.898745  19812.491024\n",
      "461   Male    Middle Class  156.280353   33.002070  37.695142  20701.031592\n",
      "471   Male    Middle Class  106.103389  123.438282  25.126552  20261.337634\n",
      "478   Male    Middle Class  188.566920   50.391573  23.552584  21048.179357\n",
      "491   Male    Middle Class  142.710955   54.766100  24.908304  20076.028918\n",
      "\n",
      "[77 rows x 6 columns]\n",
      "('Male', 'Poor')\n",
      "    Gender Economic Status      Height      Weight        Age        Income\n",
      "5     Male            Poor  176.352323   50.325117   1.459394  19448.821974\n",
      "10    Male            Poor  170.723817   89.469342   8.947972  19971.467537\n",
      "17    Male            Poor  134.090131   81.302201  41.948842  20404.189607\n",
      "25    Male            Poor  192.794447   43.883523  20.900404  18081.370026\n",
      "42    Male            Poor  141.296258   88.477249   6.440238  18942.019346\n",
      "..     ...             ...         ...         ...        ...           ...\n",
      "487   Male            Poor  178.987919   93.155252  36.558880  18626.142065\n",
      "489   Male            Poor  209.842287   60.605460  34.342634  20615.330444\n",
      "493   Male            Poor  141.041498   76.979606  16.746270  18677.352683\n",
      "498   Male            Poor   89.600419   42.680898  40.536927  18131.271636\n",
      "499   Male            Poor  212.222116  119.605441  31.710433  18619.657768\n",
      "\n",
      "[81 rows x 6 columns]\n",
      "('Male', 'Rich')\n",
      "    Gender Economic Status      Height     Weight        Age        Income\n",
      "2     Male            Rich  135.687605  40.163796  19.084108  20085.354380\n",
      "4     Male            Rich  155.881569  98.230917  34.037907  19062.009257\n",
      "6     Male            Rich  187.753234  57.855031  26.753713  18314.795045\n",
      "20    Male            Rich  176.791310  44.652673   1.482271  20408.731405\n",
      "21    Male            Rich  110.575559  61.394028  24.758362  19165.096376\n",
      "..     ...             ...         ...        ...        ...           ...\n",
      "460   Male            Rich  140.511015  46.067911  29.386646  21087.573739\n",
      "464   Male            Rich   74.726607  23.625396  32.497198  21100.977599\n",
      "481   Male            Rich  107.413781  93.577881  22.987175  19014.511235\n",
      "494   Male            Rich  181.991855  66.373735  46.763736  20597.266530\n",
      "495   Male            Rich  182.833879   3.462761  62.882954  21026.843517\n",
      "\n",
      "[76 rows x 6 columns]\n"
     ]
    }
   ],
   "source": [
    "for names, groups in double_group:\n",
    "    print(names)\n",
    "    print(groups)"
   ]
  },
  {
   "cell_type": "markdown",
   "metadata": {
    "colab_type": "text",
    "id": "Mm2akYJegSWp"
   },
   "source": [
    "## Operaciones sobre datos agrupados"
   ]
  },
  {
   "cell_type": "code",
   "execution_count": 146,
   "metadata": {
    "colab": {
     "base_uri": "https://localhost:8080/",
     "height": 266
    },
    "colab_type": "code",
    "id": "bzYtmKBUgSWp",
    "outputId": "52495594-4f03-4a72-ab59-a64740e8a9d3"
   },
   "outputs": [
    {
     "data": {
      "text/html": [
       "<div>\n",
       "<style scoped>\n",
       "    .dataframe tbody tr th:only-of-type {\n",
       "        vertical-align: middle;\n",
       "    }\n",
       "\n",
       "    .dataframe tbody tr th {\n",
       "        vertical-align: top;\n",
       "    }\n",
       "\n",
       "    .dataframe thead th {\n",
       "        text-align: right;\n",
       "    }\n",
       "</style>\n",
       "<table border=\"1\" class=\"dataframe\">\n",
       "  <thead>\n",
       "    <tr style=\"text-align: right;\">\n",
       "      <th></th>\n",
       "      <th></th>\n",
       "      <th>Height</th>\n",
       "      <th>Weight</th>\n",
       "      <th>Age</th>\n",
       "      <th>Income</th>\n",
       "    </tr>\n",
       "    <tr>\n",
       "      <th>Gender</th>\n",
       "      <th>Economic Status</th>\n",
       "      <th></th>\n",
       "      <th></th>\n",
       "      <th></th>\n",
       "      <th></th>\n",
       "    </tr>\n",
       "  </thead>\n",
       "  <tbody>\n",
       "    <tr>\n",
       "      <th rowspan=\"3\" valign=\"top\">Female</th>\n",
       "      <th>Middle Class</th>\n",
       "      <td>15445.033146</td>\n",
       "      <td>6090.859865</td>\n",
       "      <td>2914.645996</td>\n",
       "      <td>1.821841e+06</td>\n",
       "    </tr>\n",
       "    <tr>\n",
       "      <th>Poor</th>\n",
       "      <td>14672.886551</td>\n",
       "      <td>6009.086135</td>\n",
       "      <td>2763.857017</td>\n",
       "      <td>1.813293e+06</td>\n",
       "    </tr>\n",
       "    <tr>\n",
       "      <th>Rich</th>\n",
       "      <td>13487.384371</td>\n",
       "      <td>5501.042484</td>\n",
       "      <td>2488.246398</td>\n",
       "      <td>1.606382e+06</td>\n",
       "    </tr>\n",
       "    <tr>\n",
       "      <th rowspan=\"3\" valign=\"top\">Male</th>\n",
       "      <th>Middle Class</th>\n",
       "      <td>12006.697222</td>\n",
       "      <td>5632.750714</td>\n",
       "      <td>2291.707989</td>\n",
       "      <td>1.519572e+06</td>\n",
       "    </tr>\n",
       "    <tr>\n",
       "      <th>Poor</th>\n",
       "      <td>13188.111408</td>\n",
       "      <td>5395.755418</td>\n",
       "      <td>2128.134812</td>\n",
       "      <td>1.588092e+06</td>\n",
       "    </tr>\n",
       "    <tr>\n",
       "      <th>Rich</th>\n",
       "      <td>12077.574465</td>\n",
       "      <td>4811.041868</td>\n",
       "      <td>2355.411607</td>\n",
       "      <td>1.498431e+06</td>\n",
       "    </tr>\n",
       "  </tbody>\n",
       "</table>\n",
       "</div>"
      ],
      "text/plain": [
       "                              Height       Weight          Age        Income\n",
       "Gender Economic Status                                                      \n",
       "Female Middle Class     15445.033146  6090.859865  2914.645996  1.821841e+06\n",
       "       Poor             14672.886551  6009.086135  2763.857017  1.813293e+06\n",
       "       Rich             13487.384371  5501.042484  2488.246398  1.606382e+06\n",
       "Male   Middle Class     12006.697222  5632.750714  2291.707989  1.519572e+06\n",
       "       Poor             13188.111408  5395.755418  2128.134812  1.588092e+06\n",
       "       Rich             12077.574465  4811.041868  2355.411607  1.498431e+06"
      ]
     },
     "execution_count": 146,
     "metadata": {
      "tags": []
     },
     "output_type": "execute_result"
    }
   ],
   "source": [
    "double_group.sum()"
   ]
  },
  {
   "cell_type": "code",
   "execution_count": 147,
   "metadata": {
    "colab": {
     "base_uri": "https://localhost:8080/",
     "height": 266
    },
    "colab_type": "code",
    "id": "041n3KWWgSWr",
    "outputId": "f1cac997-a7d3-4643-fb0e-c302850db9fb"
   },
   "outputs": [
    {
     "data": {
      "text/html": [
       "<div>\n",
       "<style scoped>\n",
       "    .dataframe tbody tr th:only-of-type {\n",
       "        vertical-align: middle;\n",
       "    }\n",
       "\n",
       "    .dataframe tbody tr th {\n",
       "        vertical-align: top;\n",
       "    }\n",
       "\n",
       "    .dataframe thead th {\n",
       "        text-align: right;\n",
       "    }\n",
       "</style>\n",
       "<table border=\"1\" class=\"dataframe\">\n",
       "  <thead>\n",
       "    <tr style=\"text-align: right;\">\n",
       "      <th></th>\n",
       "      <th></th>\n",
       "      <th>Height</th>\n",
       "      <th>Weight</th>\n",
       "      <th>Age</th>\n",
       "      <th>Income</th>\n",
       "    </tr>\n",
       "    <tr>\n",
       "      <th>Gender</th>\n",
       "      <th>Economic Status</th>\n",
       "      <th></th>\n",
       "      <th></th>\n",
       "      <th></th>\n",
       "      <th></th>\n",
       "    </tr>\n",
       "  </thead>\n",
       "  <tbody>\n",
       "    <tr>\n",
       "      <th rowspan=\"3\" valign=\"top\">Female</th>\n",
       "      <th>Middle Class</th>\n",
       "      <td>166.075625</td>\n",
       "      <td>65.493117</td>\n",
       "      <td>31.340280</td>\n",
       "      <td>19589.686564</td>\n",
       "    </tr>\n",
       "    <tr>\n",
       "      <th>Poor</th>\n",
       "      <td>159.487897</td>\n",
       "      <td>65.316154</td>\n",
       "      <td>30.041924</td>\n",
       "      <td>19709.704159</td>\n",
       "    </tr>\n",
       "    <tr>\n",
       "      <th>Rich</th>\n",
       "      <td>166.510918</td>\n",
       "      <td>67.914105</td>\n",
       "      <td>30.719091</td>\n",
       "      <td>19831.876029</td>\n",
       "    </tr>\n",
       "    <tr>\n",
       "      <th rowspan=\"3\" valign=\"top\">Male</th>\n",
       "      <th>Middle Class</th>\n",
       "      <td>155.931133</td>\n",
       "      <td>73.152607</td>\n",
       "      <td>29.762441</td>\n",
       "      <td>19734.699970</td>\n",
       "    </tr>\n",
       "    <tr>\n",
       "      <th>Poor</th>\n",
       "      <td>162.816190</td>\n",
       "      <td>66.614264</td>\n",
       "      <td>26.273269</td>\n",
       "      <td>19606.079970</td>\n",
       "    </tr>\n",
       "    <tr>\n",
       "      <th>Rich</th>\n",
       "      <td>158.915453</td>\n",
       "      <td>63.303182</td>\n",
       "      <td>30.992258</td>\n",
       "      <td>19716.195519</td>\n",
       "    </tr>\n",
       "  </tbody>\n",
       "</table>\n",
       "</div>"
      ],
      "text/plain": [
       "                            Height     Weight        Age        Income\n",
       "Gender Economic Status                                                \n",
       "Female Middle Class     166.075625  65.493117  31.340280  19589.686564\n",
       "       Poor             159.487897  65.316154  30.041924  19709.704159\n",
       "       Rich             166.510918  67.914105  30.719091  19831.876029\n",
       "Male   Middle Class     155.931133  73.152607  29.762441  19734.699970\n",
       "       Poor             162.816190  66.614264  26.273269  19606.079970\n",
       "       Rich             158.915453  63.303182  30.992258  19716.195519"
      ]
     },
     "execution_count": 147,
     "metadata": {
      "tags": []
     },
     "output_type": "execute_result"
    }
   ],
   "source": [
    "double_group.mean()"
   ]
  },
  {
   "cell_type": "code",
   "execution_count": 148,
   "metadata": {
    "colab": {
     "base_uri": "https://localhost:8080/",
     "height": 153
    },
    "colab_type": "code",
    "id": "Mp4kAZzOgSWt",
    "outputId": "e6896c7e-8ecf-4216-a51d-16306df24894"
   },
   "outputs": [
    {
     "data": {
      "text/plain": [
       "Gender  Economic Status\n",
       "Female  Middle Class       93\n",
       "        Poor               92\n",
       "        Rich               81\n",
       "Male    Middle Class       77\n",
       "        Poor               81\n",
       "        Rich               76\n",
       "dtype: int64"
      ]
     },
     "execution_count": 148,
     "metadata": {
      "tags": []
     },
     "output_type": "execute_result"
    }
   ],
   "source": [
    "double_group.size()"
   ]
  },
  {
   "cell_type": "code",
   "execution_count": 149,
   "metadata": {
    "colab": {
     "base_uri": "https://localhost:8080/",
     "height": 368
    },
    "colab_type": "code",
    "id": "yQ61ItYGgSWv",
    "outputId": "533195bc-a4cf-4d2b-b5f0-933b6b912a5b"
   },
   "outputs": [
    {
     "data": {
      "text/html": [
       "<div>\n",
       "<style scoped>\n",
       "    .dataframe tbody tr th:only-of-type {\n",
       "        vertical-align: middle;\n",
       "    }\n",
       "\n",
       "    .dataframe tbody tr th {\n",
       "        vertical-align: top;\n",
       "    }\n",
       "\n",
       "    .dataframe thead tr th {\n",
       "        text-align: left;\n",
       "    }\n",
       "\n",
       "    .dataframe thead tr:last-of-type th {\n",
       "        text-align: right;\n",
       "    }\n",
       "</style>\n",
       "<table border=\"1\" class=\"dataframe\">\n",
       "  <thead>\n",
       "    <tr>\n",
       "      <th></th>\n",
       "      <th></th>\n",
       "      <th colspan=\"8\" halign=\"left\">Height</th>\n",
       "      <th colspan=\"8\" halign=\"left\">Weight</th>\n",
       "      <th colspan=\"8\" halign=\"left\">Age</th>\n",
       "      <th colspan=\"8\" halign=\"left\">Income</th>\n",
       "    </tr>\n",
       "    <tr>\n",
       "      <th></th>\n",
       "      <th></th>\n",
       "      <th>count</th>\n",
       "      <th>mean</th>\n",
       "      <th>std</th>\n",
       "      <th>min</th>\n",
       "      <th>25%</th>\n",
       "      <th>50%</th>\n",
       "      <th>75%</th>\n",
       "      <th>max</th>\n",
       "      <th>count</th>\n",
       "      <th>mean</th>\n",
       "      <th>std</th>\n",
       "      <th>min</th>\n",
       "      <th>25%</th>\n",
       "      <th>50%</th>\n",
       "      <th>75%</th>\n",
       "      <th>max</th>\n",
       "      <th>count</th>\n",
       "      <th>mean</th>\n",
       "      <th>std</th>\n",
       "      <th>min</th>\n",
       "      <th>25%</th>\n",
       "      <th>50%</th>\n",
       "      <th>75%</th>\n",
       "      <th>max</th>\n",
       "      <th>count</th>\n",
       "      <th>mean</th>\n",
       "      <th>std</th>\n",
       "      <th>min</th>\n",
       "      <th>25%</th>\n",
       "      <th>50%</th>\n",
       "      <th>75%</th>\n",
       "      <th>max</th>\n",
       "    </tr>\n",
       "    <tr>\n",
       "      <th>Gender</th>\n",
       "      <th>Economic Status</th>\n",
       "      <th></th>\n",
       "      <th></th>\n",
       "      <th></th>\n",
       "      <th></th>\n",
       "      <th></th>\n",
       "      <th></th>\n",
       "      <th></th>\n",
       "      <th></th>\n",
       "      <th></th>\n",
       "      <th></th>\n",
       "      <th></th>\n",
       "      <th></th>\n",
       "      <th></th>\n",
       "      <th></th>\n",
       "      <th></th>\n",
       "      <th></th>\n",
       "      <th></th>\n",
       "      <th></th>\n",
       "      <th></th>\n",
       "      <th></th>\n",
       "      <th></th>\n",
       "      <th></th>\n",
       "      <th></th>\n",
       "      <th></th>\n",
       "      <th></th>\n",
       "      <th></th>\n",
       "      <th></th>\n",
       "      <th></th>\n",
       "      <th></th>\n",
       "      <th></th>\n",
       "      <th></th>\n",
       "      <th></th>\n",
       "    </tr>\n",
       "  </thead>\n",
       "  <tbody>\n",
       "    <tr>\n",
       "      <th rowspan=\"3\" valign=\"top\">Female</th>\n",
       "      <th>Middle Class</th>\n",
       "      <td>93.0</td>\n",
       "      <td>166.075625</td>\n",
       "      <td>32.131700</td>\n",
       "      <td>91.949374</td>\n",
       "      <td>143.721471</td>\n",
       "      <td>162.815060</td>\n",
       "      <td>190.019439</td>\n",
       "      <td>233.229701</td>\n",
       "      <td>93.0</td>\n",
       "      <td>65.493117</td>\n",
       "      <td>23.280803</td>\n",
       "      <td>-0.647297</td>\n",
       "      <td>50.811766</td>\n",
       "      <td>66.264922</td>\n",
       "      <td>79.093967</td>\n",
       "      <td>129.193727</td>\n",
       "      <td>93.0</td>\n",
       "      <td>31.340280</td>\n",
       "      <td>13.196735</td>\n",
       "      <td>4.475087</td>\n",
       "      <td>21.139166</td>\n",
       "      <td>30.110377</td>\n",
       "      <td>40.121395</td>\n",
       "      <td>67.282584</td>\n",
       "      <td>93.0</td>\n",
       "      <td>19589.686564</td>\n",
       "      <td>1016.064014</td>\n",
       "      <td>18015.839774</td>\n",
       "      <td>18689.616602</td>\n",
       "      <td>19348.035707</td>\n",
       "      <td>20431.203299</td>\n",
       "      <td>21440.373929</td>\n",
       "    </tr>\n",
       "    <tr>\n",
       "      <th>Poor</th>\n",
       "      <td>92.0</td>\n",
       "      <td>159.487897</td>\n",
       "      <td>30.181836</td>\n",
       "      <td>89.407098</td>\n",
       "      <td>138.777414</td>\n",
       "      <td>160.078224</td>\n",
       "      <td>178.081232</td>\n",
       "      <td>240.738367</td>\n",
       "      <td>92.0</td>\n",
       "      <td>65.316154</td>\n",
       "      <td>22.869145</td>\n",
       "      <td>5.317684</td>\n",
       "      <td>50.936952</td>\n",
       "      <td>64.722478</td>\n",
       "      <td>80.498717</td>\n",
       "      <td>117.493422</td>\n",
       "      <td>92.0</td>\n",
       "      <td>30.041924</td>\n",
       "      <td>12.881696</td>\n",
       "      <td>-0.077664</td>\n",
       "      <td>21.807435</td>\n",
       "      <td>31.408424</td>\n",
       "      <td>37.323635</td>\n",
       "      <td>64.547720</td>\n",
       "      <td>92.0</td>\n",
       "      <td>19709.704159</td>\n",
       "      <td>1023.698002</td>\n",
       "      <td>18014.290363</td>\n",
       "      <td>18726.236947</td>\n",
       "      <td>19798.196320</td>\n",
       "      <td>20527.278809</td>\n",
       "      <td>21474.354947</td>\n",
       "    </tr>\n",
       "    <tr>\n",
       "      <th>Rich</th>\n",
       "      <td>81.0</td>\n",
       "      <td>166.510918</td>\n",
       "      <td>28.268298</td>\n",
       "      <td>93.847293</td>\n",
       "      <td>149.154890</td>\n",
       "      <td>167.972695</td>\n",
       "      <td>191.195269</td>\n",
       "      <td>216.658874</td>\n",
       "      <td>81.0</td>\n",
       "      <td>67.914105</td>\n",
       "      <td>22.612967</td>\n",
       "      <td>14.127117</td>\n",
       "      <td>50.967549</td>\n",
       "      <td>69.962431</td>\n",
       "      <td>84.811732</td>\n",
       "      <td>115.872496</td>\n",
       "      <td>81.0</td>\n",
       "      <td>30.719091</td>\n",
       "      <td>12.714997</td>\n",
       "      <td>-7.212099</td>\n",
       "      <td>21.985967</td>\n",
       "      <td>32.851978</td>\n",
       "      <td>38.153050</td>\n",
       "      <td>62.431726</td>\n",
       "      <td>81.0</td>\n",
       "      <td>19831.876029</td>\n",
       "      <td>913.622778</td>\n",
       "      <td>18033.552300</td>\n",
       "      <td>19005.987114</td>\n",
       "      <td>19894.634006</td>\n",
       "      <td>20578.158547</td>\n",
       "      <td>21348.463256</td>\n",
       "    </tr>\n",
       "    <tr>\n",
       "      <th rowspan=\"3\" valign=\"top\">Male</th>\n",
       "      <th>Middle Class</th>\n",
       "      <td>77.0</td>\n",
       "      <td>155.931133</td>\n",
       "      <td>31.126932</td>\n",
       "      <td>93.258427</td>\n",
       "      <td>129.042086</td>\n",
       "      <td>156.280353</td>\n",
       "      <td>173.895488</td>\n",
       "      <td>226.550699</td>\n",
       "      <td>77.0</td>\n",
       "      <td>73.152607</td>\n",
       "      <td>25.753627</td>\n",
       "      <td>8.594611</td>\n",
       "      <td>54.766100</td>\n",
       "      <td>76.216357</td>\n",
       "      <td>89.704569</td>\n",
       "      <td>136.277216</td>\n",
       "      <td>77.0</td>\n",
       "      <td>29.762441</td>\n",
       "      <td>10.999201</td>\n",
       "      <td>-3.294550</td>\n",
       "      <td>23.773623</td>\n",
       "      <td>29.062477</td>\n",
       "      <td>37.912015</td>\n",
       "      <td>54.417503</td>\n",
       "      <td>77.0</td>\n",
       "      <td>19734.699970</td>\n",
       "      <td>1011.324349</td>\n",
       "      <td>18055.836572</td>\n",
       "      <td>19052.841269</td>\n",
       "      <td>19719.778671</td>\n",
       "      <td>20498.322198</td>\n",
       "      <td>21491.973300</td>\n",
       "    </tr>\n",
       "    <tr>\n",
       "      <th>Poor</th>\n",
       "      <td>81.0</td>\n",
       "      <td>162.816190</td>\n",
       "      <td>31.649602</td>\n",
       "      <td>77.087211</td>\n",
       "      <td>140.617713</td>\n",
       "      <td>166.867241</td>\n",
       "      <td>182.381147</td>\n",
       "      <td>251.481017</td>\n",
       "      <td>81.0</td>\n",
       "      <td>66.614264</td>\n",
       "      <td>21.719955</td>\n",
       "      <td>20.891996</td>\n",
       "      <td>51.073762</td>\n",
       "      <td>65.815941</td>\n",
       "      <td>81.527301</td>\n",
       "      <td>121.195635</td>\n",
       "      <td>81.0</td>\n",
       "      <td>26.273269</td>\n",
       "      <td>14.127444</td>\n",
       "      <td>-10.160034</td>\n",
       "      <td>15.091239</td>\n",
       "      <td>28.406985</td>\n",
       "      <td>36.021687</td>\n",
       "      <td>59.083883</td>\n",
       "      <td>81.0</td>\n",
       "      <td>19606.079970</td>\n",
       "      <td>1017.314653</td>\n",
       "      <td>18081.370026</td>\n",
       "      <td>18677.352683</td>\n",
       "      <td>19589.818979</td>\n",
       "      <td>20266.588764</td>\n",
       "      <td>21425.444754</td>\n",
       "    </tr>\n",
       "    <tr>\n",
       "      <th>Rich</th>\n",
       "      <td>76.0</td>\n",
       "      <td>158.915453</td>\n",
       "      <td>32.448592</td>\n",
       "      <td>74.726607</td>\n",
       "      <td>139.595856</td>\n",
       "      <td>162.169408</td>\n",
       "      <td>183.152823</td>\n",
       "      <td>217.443652</td>\n",
       "      <td>76.0</td>\n",
       "      <td>63.303182</td>\n",
       "      <td>27.559888</td>\n",
       "      <td>-4.963152</td>\n",
       "      <td>43.191143</td>\n",
       "      <td>63.239731</td>\n",
       "      <td>85.352696</td>\n",
       "      <td>116.465532</td>\n",
       "      <td>76.0</td>\n",
       "      <td>30.992258</td>\n",
       "      <td>13.159000</td>\n",
       "      <td>1.357078</td>\n",
       "      <td>21.190289</td>\n",
       "      <td>29.584231</td>\n",
       "      <td>40.758250</td>\n",
       "      <td>62.882954</td>\n",
       "      <td>76.0</td>\n",
       "      <td>19716.195519</td>\n",
       "      <td>995.005343</td>\n",
       "      <td>18031.550341</td>\n",
       "      <td>18907.018696</td>\n",
       "      <td>19836.724146</td>\n",
       "      <td>20460.425706</td>\n",
       "      <td>21495.560394</td>\n",
       "    </tr>\n",
       "  </tbody>\n",
       "</table>\n",
       "</div>"
      ],
      "text/plain": [
       "                       Height              ...        Income              \n",
       "                        count        mean  ...           75%           max\n",
       "Gender Economic Status                     ...                            \n",
       "Female Middle Class      93.0  166.075625  ...  20431.203299  21440.373929\n",
       "       Poor              92.0  159.487897  ...  20527.278809  21474.354947\n",
       "       Rich              81.0  166.510918  ...  20578.158547  21348.463256\n",
       "Male   Middle Class      77.0  155.931133  ...  20498.322198  21491.973300\n",
       "       Poor              81.0  162.816190  ...  20266.588764  21425.444754\n",
       "       Rich              76.0  158.915453  ...  20460.425706  21495.560394\n",
       "\n",
       "[6 rows x 32 columns]"
      ]
     },
     "execution_count": 149,
     "metadata": {
      "tags": []
     },
     "output_type": "execute_result"
    }
   ],
   "source": [
    "double_group.describe()"
   ]
  },
  {
   "cell_type": "code",
   "execution_count": 150,
   "metadata": {
    "colab": {},
    "colab_type": "code",
    "id": "BG_-5nH9gSWx"
   },
   "outputs": [],
   "source": [
    "grouped_income = double_group[\"Income\"]"
   ]
  },
  {
   "cell_type": "code",
   "execution_count": 151,
   "metadata": {
    "colab": {
     "base_uri": "https://localhost:8080/",
     "height": 283
    },
    "colab_type": "code",
    "id": "CGzwx8OEgSWz",
    "outputId": "90bd1c5a-dad2-421f-bdc5-4a1a277d5e65"
   },
   "outputs": [
    {
     "data": {
      "text/html": [
       "<div>\n",
       "<style scoped>\n",
       "    .dataframe tbody tr th:only-of-type {\n",
       "        vertical-align: middle;\n",
       "    }\n",
       "\n",
       "    .dataframe tbody tr th {\n",
       "        vertical-align: top;\n",
       "    }\n",
       "\n",
       "    .dataframe thead th {\n",
       "        text-align: right;\n",
       "    }\n",
       "</style>\n",
       "<table border=\"1\" class=\"dataframe\">\n",
       "  <thead>\n",
       "    <tr style=\"text-align: right;\">\n",
       "      <th></th>\n",
       "      <th></th>\n",
       "      <th>count</th>\n",
       "      <th>mean</th>\n",
       "      <th>std</th>\n",
       "      <th>min</th>\n",
       "      <th>25%</th>\n",
       "      <th>50%</th>\n",
       "      <th>75%</th>\n",
       "      <th>max</th>\n",
       "    </tr>\n",
       "    <tr>\n",
       "      <th>Gender</th>\n",
       "      <th>Economic Status</th>\n",
       "      <th></th>\n",
       "      <th></th>\n",
       "      <th></th>\n",
       "      <th></th>\n",
       "      <th></th>\n",
       "      <th></th>\n",
       "      <th></th>\n",
       "      <th></th>\n",
       "    </tr>\n",
       "  </thead>\n",
       "  <tbody>\n",
       "    <tr>\n",
       "      <th rowspan=\"3\" valign=\"top\">Female</th>\n",
       "      <th>Middle Class</th>\n",
       "      <td>93.0</td>\n",
       "      <td>19589.686564</td>\n",
       "      <td>1016.064014</td>\n",
       "      <td>18015.839774</td>\n",
       "      <td>18689.616602</td>\n",
       "      <td>19348.035707</td>\n",
       "      <td>20431.203299</td>\n",
       "      <td>21440.373929</td>\n",
       "    </tr>\n",
       "    <tr>\n",
       "      <th>Poor</th>\n",
       "      <td>92.0</td>\n",
       "      <td>19709.704159</td>\n",
       "      <td>1023.698002</td>\n",
       "      <td>18014.290363</td>\n",
       "      <td>18726.236947</td>\n",
       "      <td>19798.196320</td>\n",
       "      <td>20527.278809</td>\n",
       "      <td>21474.354947</td>\n",
       "    </tr>\n",
       "    <tr>\n",
       "      <th>Rich</th>\n",
       "      <td>81.0</td>\n",
       "      <td>19831.876029</td>\n",
       "      <td>913.622778</td>\n",
       "      <td>18033.552300</td>\n",
       "      <td>19005.987114</td>\n",
       "      <td>19894.634006</td>\n",
       "      <td>20578.158547</td>\n",
       "      <td>21348.463256</td>\n",
       "    </tr>\n",
       "    <tr>\n",
       "      <th rowspan=\"3\" valign=\"top\">Male</th>\n",
       "      <th>Middle Class</th>\n",
       "      <td>77.0</td>\n",
       "      <td>19734.699970</td>\n",
       "      <td>1011.324349</td>\n",
       "      <td>18055.836572</td>\n",
       "      <td>19052.841269</td>\n",
       "      <td>19719.778671</td>\n",
       "      <td>20498.322198</td>\n",
       "      <td>21491.973300</td>\n",
       "    </tr>\n",
       "    <tr>\n",
       "      <th>Poor</th>\n",
       "      <td>81.0</td>\n",
       "      <td>19606.079970</td>\n",
       "      <td>1017.314653</td>\n",
       "      <td>18081.370026</td>\n",
       "      <td>18677.352683</td>\n",
       "      <td>19589.818979</td>\n",
       "      <td>20266.588764</td>\n",
       "      <td>21425.444754</td>\n",
       "    </tr>\n",
       "    <tr>\n",
       "      <th>Rich</th>\n",
       "      <td>76.0</td>\n",
       "      <td>19716.195519</td>\n",
       "      <td>995.005343</td>\n",
       "      <td>18031.550341</td>\n",
       "      <td>18907.018696</td>\n",
       "      <td>19836.724146</td>\n",
       "      <td>20460.425706</td>\n",
       "      <td>21495.560394</td>\n",
       "    </tr>\n",
       "  </tbody>\n",
       "</table>\n",
       "</div>"
      ],
      "text/plain": [
       "                        count          mean  ...           75%           max\n",
       "Gender Economic Status                       ...                            \n",
       "Female Middle Class      93.0  19589.686564  ...  20431.203299  21440.373929\n",
       "       Poor              92.0  19709.704159  ...  20527.278809  21474.354947\n",
       "       Rich              81.0  19831.876029  ...  20578.158547  21348.463256\n",
       "Male   Middle Class      77.0  19734.699970  ...  20498.322198  21491.973300\n",
       "       Poor              81.0  19606.079970  ...  20266.588764  21425.444754\n",
       "       Rich              76.0  19716.195519  ...  20460.425706  21495.560394\n",
       "\n",
       "[6 rows x 8 columns]"
      ]
     },
     "execution_count": 151,
     "metadata": {
      "tags": []
     },
     "output_type": "execute_result"
    }
   ],
   "source": [
    "grouped_income.describe()"
   ]
  },
  {
   "cell_type": "code",
   "execution_count": 152,
   "metadata": {
    "colab": {
     "base_uri": "https://localhost:8080/",
     "height": 266
    },
    "colab_type": "code",
    "id": "4JniHJpMgSW0",
    "outputId": "65445f47-591f-43fd-f852-ab70d7e5966f"
   },
   "outputs": [
    {
     "data": {
      "text/html": [
       "<div>\n",
       "<style scoped>\n",
       "    .dataframe tbody tr th:only-of-type {\n",
       "        vertical-align: middle;\n",
       "    }\n",
       "\n",
       "    .dataframe tbody tr th {\n",
       "        vertical-align: top;\n",
       "    }\n",
       "\n",
       "    .dataframe thead th {\n",
       "        text-align: right;\n",
       "    }\n",
       "</style>\n",
       "<table border=\"1\" class=\"dataframe\">\n",
       "  <thead>\n",
       "    <tr style=\"text-align: right;\">\n",
       "      <th></th>\n",
       "      <th></th>\n",
       "      <th>Income</th>\n",
       "      <th>Age</th>\n",
       "      <th>Height</th>\n",
       "    </tr>\n",
       "    <tr>\n",
       "      <th>Gender</th>\n",
       "      <th>Economic Status</th>\n",
       "      <th></th>\n",
       "      <th></th>\n",
       "      <th></th>\n",
       "    </tr>\n",
       "  </thead>\n",
       "  <tbody>\n",
       "    <tr>\n",
       "      <th rowspan=\"3\" valign=\"top\">Female</th>\n",
       "      <th>Middle Class</th>\n",
       "      <td>1.821841e+06</td>\n",
       "      <td>31.340280</td>\n",
       "      <td>32.131700</td>\n",
       "    </tr>\n",
       "    <tr>\n",
       "      <th>Poor</th>\n",
       "      <td>1.813293e+06</td>\n",
       "      <td>30.041924</td>\n",
       "      <td>30.181836</td>\n",
       "    </tr>\n",
       "    <tr>\n",
       "      <th>Rich</th>\n",
       "      <td>1.606382e+06</td>\n",
       "      <td>30.719091</td>\n",
       "      <td>28.268298</td>\n",
       "    </tr>\n",
       "    <tr>\n",
       "      <th rowspan=\"3\" valign=\"top\">Male</th>\n",
       "      <th>Middle Class</th>\n",
       "      <td>1.519572e+06</td>\n",
       "      <td>29.762441</td>\n",
       "      <td>31.126932</td>\n",
       "    </tr>\n",
       "    <tr>\n",
       "      <th>Poor</th>\n",
       "      <td>1.588092e+06</td>\n",
       "      <td>26.273269</td>\n",
       "      <td>31.649602</td>\n",
       "    </tr>\n",
       "    <tr>\n",
       "      <th>Rich</th>\n",
       "      <td>1.498431e+06</td>\n",
       "      <td>30.992258</td>\n",
       "      <td>32.448592</td>\n",
       "    </tr>\n",
       "  </tbody>\n",
       "</table>\n",
       "</div>"
      ],
      "text/plain": [
       "                              Income        Age     Height\n",
       "Gender Economic Status                                    \n",
       "Female Middle Class     1.821841e+06  31.340280  32.131700\n",
       "       Poor             1.813293e+06  30.041924  30.181836\n",
       "       Rich             1.606382e+06  30.719091  28.268298\n",
       "Male   Middle Class     1.519572e+06  29.762441  31.126932\n",
       "       Poor             1.588092e+06  26.273269  31.649602\n",
       "       Rich             1.498431e+06  30.992258  32.448592"
      ]
     },
     "execution_count": 152,
     "metadata": {
      "tags": []
     },
     "output_type": "execute_result"
    }
   ],
   "source": [
    "double_group.aggregate(\n",
    "    {\n",
    "        \"Income\": np.sum,\n",
    "        \"Age\" : np.mean,\n",
    "        \"Height\" : np.std\n",
    "    }\n",
    ")"
   ]
  },
  {
   "cell_type": "code",
   "execution_count": 153,
   "metadata": {
    "colab": {
     "base_uri": "https://localhost:8080/",
     "height": 266
    },
    "colab_type": "code",
    "id": "MfLrePJLgSW2",
    "outputId": "f5dceef7-d4fd-4c6c-da1c-7dea743900ad"
   },
   "outputs": [
    {
     "data": {
      "text/html": [
       "<div>\n",
       "<style scoped>\n",
       "    .dataframe tbody tr th:only-of-type {\n",
       "        vertical-align: middle;\n",
       "    }\n",
       "\n",
       "    .dataframe tbody tr th {\n",
       "        vertical-align: top;\n",
       "    }\n",
       "\n",
       "    .dataframe thead th {\n",
       "        text-align: right;\n",
       "    }\n",
       "</style>\n",
       "<table border=\"1\" class=\"dataframe\">\n",
       "  <thead>\n",
       "    <tr style=\"text-align: right;\">\n",
       "      <th></th>\n",
       "      <th></th>\n",
       "      <th>Age</th>\n",
       "      <th>Height</th>\n",
       "    </tr>\n",
       "    <tr>\n",
       "      <th>Gender</th>\n",
       "      <th>Economic Status</th>\n",
       "      <th></th>\n",
       "      <th></th>\n",
       "    </tr>\n",
       "  </thead>\n",
       "  <tbody>\n",
       "    <tr>\n",
       "      <th rowspan=\"3\" valign=\"top\">Female</th>\n",
       "      <th>Middle Class</th>\n",
       "      <td>31.340280</td>\n",
       "      <td>5.196605</td>\n",
       "    </tr>\n",
       "    <tr>\n",
       "      <th>Poor</th>\n",
       "      <td>30.041924</td>\n",
       "      <td>5.313189</td>\n",
       "    </tr>\n",
       "    <tr>\n",
       "      <th>Rich</th>\n",
       "      <td>30.719091</td>\n",
       "      <td>5.927077</td>\n",
       "    </tr>\n",
       "    <tr>\n",
       "      <th rowspan=\"3\" valign=\"top\">Male</th>\n",
       "      <th>Middle Class</th>\n",
       "      <td>29.762441</td>\n",
       "      <td>5.042374</td>\n",
       "    </tr>\n",
       "    <tr>\n",
       "      <th>Poor</th>\n",
       "      <td>26.273269</td>\n",
       "      <td>5.176388</td>\n",
       "    </tr>\n",
       "    <tr>\n",
       "      <th>Rich</th>\n",
       "      <td>30.992258</td>\n",
       "      <td>4.929995</td>\n",
       "    </tr>\n",
       "  </tbody>\n",
       "</table>\n",
       "</div>"
      ],
      "text/plain": [
       "                              Age    Height\n",
       "Gender Economic Status                     \n",
       "Female Middle Class     31.340280  5.196605\n",
       "       Poor             30.041924  5.313189\n",
       "       Rich             30.719091  5.927077\n",
       "Male   Middle Class     29.762441  5.042374\n",
       "       Poor             26.273269  5.176388\n",
       "       Rich             30.992258  4.929995"
      ]
     },
     "execution_count": 153,
     "metadata": {
      "tags": []
     },
     "output_type": "execute_result"
    }
   ],
   "source": [
    "double_group.aggregate(\n",
    "    {\n",
    "        \"Age\" : np.mean,\n",
    "        \"Height\" : lambda h:(np.mean(h))/np.std(h)\n",
    "    }\n",
    ")"
   ]
  },
  {
   "cell_type": "code",
   "execution_count": 154,
   "metadata": {
    "colab": {
     "base_uri": "https://localhost:8080/",
     "height": 368
    },
    "colab_type": "code",
    "id": "p7_zJluygSW4",
    "outputId": "a5084593-6391-4647-e5a7-4a689d6c126a"
   },
   "outputs": [
    {
     "data": {
      "text/html": [
       "<div>\n",
       "<style scoped>\n",
       "    .dataframe tbody tr th:only-of-type {\n",
       "        vertical-align: middle;\n",
       "    }\n",
       "\n",
       "    .dataframe tbody tr th {\n",
       "        vertical-align: top;\n",
       "    }\n",
       "\n",
       "    .dataframe thead tr th {\n",
       "        text-align: left;\n",
       "    }\n",
       "\n",
       "    .dataframe thead tr:last-of-type th {\n",
       "        text-align: right;\n",
       "    }\n",
       "</style>\n",
       "<table border=\"1\" class=\"dataframe\">\n",
       "  <thead>\n",
       "    <tr>\n",
       "      <th></th>\n",
       "      <th></th>\n",
       "      <th colspan=\"3\" halign=\"left\">Height</th>\n",
       "      <th colspan=\"3\" halign=\"left\">Weight</th>\n",
       "      <th colspan=\"3\" halign=\"left\">Age</th>\n",
       "      <th colspan=\"3\" halign=\"left\">Income</th>\n",
       "    </tr>\n",
       "    <tr>\n",
       "      <th></th>\n",
       "      <th></th>\n",
       "      <th>sum</th>\n",
       "      <th>mean</th>\n",
       "      <th>std</th>\n",
       "      <th>sum</th>\n",
       "      <th>mean</th>\n",
       "      <th>std</th>\n",
       "      <th>sum</th>\n",
       "      <th>mean</th>\n",
       "      <th>std</th>\n",
       "      <th>sum</th>\n",
       "      <th>mean</th>\n",
       "      <th>std</th>\n",
       "    </tr>\n",
       "    <tr>\n",
       "      <th>Gender</th>\n",
       "      <th>Economic Status</th>\n",
       "      <th></th>\n",
       "      <th></th>\n",
       "      <th></th>\n",
       "      <th></th>\n",
       "      <th></th>\n",
       "      <th></th>\n",
       "      <th></th>\n",
       "      <th></th>\n",
       "      <th></th>\n",
       "      <th></th>\n",
       "      <th></th>\n",
       "      <th></th>\n",
       "    </tr>\n",
       "  </thead>\n",
       "  <tbody>\n",
       "    <tr>\n",
       "      <th rowspan=\"3\" valign=\"top\">Female</th>\n",
       "      <th>Middle Class</th>\n",
       "      <td>15445.033146</td>\n",
       "      <td>166.075625</td>\n",
       "      <td>32.131700</td>\n",
       "      <td>6090.859865</td>\n",
       "      <td>65.493117</td>\n",
       "      <td>23.280803</td>\n",
       "      <td>2914.645996</td>\n",
       "      <td>31.340280</td>\n",
       "      <td>13.196735</td>\n",
       "      <td>1.821841e+06</td>\n",
       "      <td>19589.686564</td>\n",
       "      <td>1016.064014</td>\n",
       "    </tr>\n",
       "    <tr>\n",
       "      <th>Poor</th>\n",
       "      <td>14672.886551</td>\n",
       "      <td>159.487897</td>\n",
       "      <td>30.181836</td>\n",
       "      <td>6009.086135</td>\n",
       "      <td>65.316154</td>\n",
       "      <td>22.869145</td>\n",
       "      <td>2763.857017</td>\n",
       "      <td>30.041924</td>\n",
       "      <td>12.881696</td>\n",
       "      <td>1.813293e+06</td>\n",
       "      <td>19709.704159</td>\n",
       "      <td>1023.698002</td>\n",
       "    </tr>\n",
       "    <tr>\n",
       "      <th>Rich</th>\n",
       "      <td>13487.384371</td>\n",
       "      <td>166.510918</td>\n",
       "      <td>28.268298</td>\n",
       "      <td>5501.042484</td>\n",
       "      <td>67.914105</td>\n",
       "      <td>22.612967</td>\n",
       "      <td>2488.246398</td>\n",
       "      <td>30.719091</td>\n",
       "      <td>12.714997</td>\n",
       "      <td>1.606382e+06</td>\n",
       "      <td>19831.876029</td>\n",
       "      <td>913.622778</td>\n",
       "    </tr>\n",
       "    <tr>\n",
       "      <th rowspan=\"3\" valign=\"top\">Male</th>\n",
       "      <th>Middle Class</th>\n",
       "      <td>12006.697222</td>\n",
       "      <td>155.931133</td>\n",
       "      <td>31.126932</td>\n",
       "      <td>5632.750714</td>\n",
       "      <td>73.152607</td>\n",
       "      <td>25.753627</td>\n",
       "      <td>2291.707989</td>\n",
       "      <td>29.762441</td>\n",
       "      <td>10.999201</td>\n",
       "      <td>1.519572e+06</td>\n",
       "      <td>19734.699970</td>\n",
       "      <td>1011.324349</td>\n",
       "    </tr>\n",
       "    <tr>\n",
       "      <th>Poor</th>\n",
       "      <td>13188.111408</td>\n",
       "      <td>162.816190</td>\n",
       "      <td>31.649602</td>\n",
       "      <td>5395.755418</td>\n",
       "      <td>66.614264</td>\n",
       "      <td>21.719955</td>\n",
       "      <td>2128.134812</td>\n",
       "      <td>26.273269</td>\n",
       "      <td>14.127444</td>\n",
       "      <td>1.588092e+06</td>\n",
       "      <td>19606.079970</td>\n",
       "      <td>1017.314653</td>\n",
       "    </tr>\n",
       "    <tr>\n",
       "      <th>Rich</th>\n",
       "      <td>12077.574465</td>\n",
       "      <td>158.915453</td>\n",
       "      <td>32.448592</td>\n",
       "      <td>4811.041868</td>\n",
       "      <td>63.303182</td>\n",
       "      <td>27.559888</td>\n",
       "      <td>2355.411607</td>\n",
       "      <td>30.992258</td>\n",
       "      <td>13.159000</td>\n",
       "      <td>1.498431e+06</td>\n",
       "      <td>19716.195519</td>\n",
       "      <td>995.005343</td>\n",
       "    </tr>\n",
       "  </tbody>\n",
       "</table>\n",
       "</div>"
      ],
      "text/plain": [
       "                              Height              ...        Income             \n",
       "                                 sum        mean  ...          mean          std\n",
       "Gender Economic Status                            ...                           \n",
       "Female Middle Class     15445.033146  166.075625  ...  19589.686564  1016.064014\n",
       "       Poor             14672.886551  159.487897  ...  19709.704159  1023.698002\n",
       "       Rich             13487.384371  166.510918  ...  19831.876029   913.622778\n",
       "Male   Middle Class     12006.697222  155.931133  ...  19734.699970  1011.324349\n",
       "       Poor             13188.111408  162.816190  ...  19606.079970  1017.314653\n",
       "       Rich             12077.574465  158.915453  ...  19716.195519   995.005343\n",
       "\n",
       "[6 rows x 12 columns]"
      ]
     },
     "execution_count": 154,
     "metadata": {
      "tags": []
     },
     "output_type": "execute_result"
    }
   ],
   "source": [
    "double_group.aggregate([np.sum, np.mean, np.std])"
   ]
  },
  {
   "cell_type": "code",
   "execution_count": 155,
   "metadata": {
    "colab": {
     "base_uri": "https://localhost:8080/",
     "height": 297
    },
    "colab_type": "code",
    "id": "P5mUkt5xgSW6",
    "outputId": "119880fe-d0ca-4197-8802-73d023db7f2e"
   },
   "outputs": [
    {
     "data": {
      "text/html": [
       "<div>\n",
       "<style scoped>\n",
       "    .dataframe tbody tr th:only-of-type {\n",
       "        vertical-align: middle;\n",
       "    }\n",
       "\n",
       "    .dataframe tbody tr th {\n",
       "        vertical-align: top;\n",
       "    }\n",
       "\n",
       "    .dataframe thead tr th {\n",
       "        text-align: left;\n",
       "    }\n",
       "\n",
       "    .dataframe thead tr:last-of-type th {\n",
       "        text-align: right;\n",
       "    }\n",
       "</style>\n",
       "<table border=\"1\" class=\"dataframe\">\n",
       "  <thead>\n",
       "    <tr>\n",
       "      <th></th>\n",
       "      <th></th>\n",
       "      <th>Height</th>\n",
       "      <th>Weight</th>\n",
       "      <th>Age</th>\n",
       "      <th>Income</th>\n",
       "    </tr>\n",
       "    <tr>\n",
       "      <th></th>\n",
       "      <th></th>\n",
       "      <th>&lt;lambda&gt;</th>\n",
       "      <th>&lt;lambda&gt;</th>\n",
       "      <th>&lt;lambda&gt;</th>\n",
       "      <th>&lt;lambda&gt;</th>\n",
       "    </tr>\n",
       "    <tr>\n",
       "      <th>Gender</th>\n",
       "      <th>Economic Status</th>\n",
       "      <th></th>\n",
       "      <th></th>\n",
       "      <th></th>\n",
       "      <th></th>\n",
       "    </tr>\n",
       "  </thead>\n",
       "  <tbody>\n",
       "    <tr>\n",
       "      <th rowspan=\"3\" valign=\"top\">Female</th>\n",
       "      <th>Middle Class</th>\n",
       "      <td>5.196605</td>\n",
       "      <td>2.828429</td>\n",
       "      <td>2.387723</td>\n",
       "      <td>19.384472</td>\n",
       "    </tr>\n",
       "    <tr>\n",
       "      <th>Poor</th>\n",
       "      <td>5.313189</td>\n",
       "      <td>2.871732</td>\n",
       "      <td>2.344919</td>\n",
       "      <td>19.358935</td>\n",
       "    </tr>\n",
       "    <tr>\n",
       "      <th>Rich</th>\n",
       "      <td>5.927077</td>\n",
       "      <td>3.022038</td>\n",
       "      <td>2.431026</td>\n",
       "      <td>21.842100</td>\n",
       "    </tr>\n",
       "    <tr>\n",
       "      <th rowspan=\"3\" valign=\"top\">Male</th>\n",
       "      <th>Middle Class</th>\n",
       "      <td>5.042374</td>\n",
       "      <td>2.859104</td>\n",
       "      <td>2.723617</td>\n",
       "      <td>19.641680</td>\n",
       "    </tr>\n",
       "    <tr>\n",
       "      <th>Poor</th>\n",
       "      <td>5.176388</td>\n",
       "      <td>3.086070</td>\n",
       "      <td>1.871320</td>\n",
       "      <td>19.392464</td>\n",
       "    </tr>\n",
       "    <tr>\n",
       "      <th>Rich</th>\n",
       "      <td>4.929995</td>\n",
       "      <td>2.312194</td>\n",
       "      <td>2.370863</td>\n",
       "      <td>19.946829</td>\n",
       "    </tr>\n",
       "  </tbody>\n",
       "</table>\n",
       "</div>"
      ],
      "text/plain": [
       "                          Height    Weight       Age     Income\n",
       "                        <lambda>  <lambda>  <lambda>   <lambda>\n",
       "Gender Economic Status                                         \n",
       "Female Middle Class     5.196605  2.828429  2.387723  19.384472\n",
       "       Poor             5.313189  2.871732  2.344919  19.358935\n",
       "       Rich             5.927077  3.022038  2.431026  21.842100\n",
       "Male   Middle Class     5.042374  2.859104  2.723617  19.641680\n",
       "       Poor             5.176388  3.086070  1.871320  19.392464\n",
       "       Rich             4.929995  2.312194  2.370863  19.946829"
      ]
     },
     "execution_count": 155,
     "metadata": {
      "tags": []
     },
     "output_type": "execute_result"
    }
   ],
   "source": [
    "double_group.aggregate([lambda x: np.mean(x) / np.std(x)])"
   ]
  },
  {
   "cell_type": "markdown",
   "metadata": {
    "colab_type": "text",
    "id": "4t35zPhqgSW8"
   },
   "source": [
    "## Filtrado de datos"
   ]
  },
  {
   "cell_type": "code",
   "execution_count": 156,
   "metadata": {
    "colab": {
     "base_uri": "https://localhost:8080/",
     "height": 221
    },
    "colab_type": "code",
    "id": "3oGq6UatgSW9",
    "outputId": "a42c23a4-e4af-4b20-b989-59311a16a8ed"
   },
   "outputs": [
    {
     "data": {
      "text/plain": [
       "0      37.322058\n",
       "1      48.058395\n",
       "3      30.124853\n",
       "7      41.595709\n",
       "9      31.837990\n",
       "         ...    \n",
       "488    13.431846\n",
       "490     7.708013\n",
       "492    57.641346\n",
       "496    36.363020\n",
       "497    38.098379\n",
       "Name: Age, Length: 266, dtype: float64"
      ]
     },
     "execution_count": 156,
     "metadata": {
      "tags": []
     },
     "output_type": "execute_result"
    }
   ],
   "source": [
    "double_group[\"Age\"].filter(lambda x: x.sum()>2400)"
   ]
  },
  {
   "cell_type": "markdown",
   "metadata": {
    "colab_type": "text",
    "id": "vDIjT6Q0gSW_"
   },
   "source": [
    "## Transformación de variables"
   ]
  },
  {
   "cell_type": "code",
   "execution_count": 157,
   "metadata": {
    "colab": {},
    "colab_type": "code",
    "id": "X48dizN4gSW_"
   },
   "outputs": [],
   "source": [
    "zscore = lambda x : (x - x.mean())/x.std()"
   ]
  },
  {
   "cell_type": "code",
   "execution_count": 158,
   "metadata": {
    "colab": {},
    "colab_type": "code",
    "id": "JTuh3k0IgSXB"
   },
   "outputs": [],
   "source": [
    "z_group = double_group.transform(zscore)"
   ]
  },
  {
   "cell_type": "code",
   "execution_count": 159,
   "metadata": {
    "colab": {},
    "colab_type": "code",
    "id": "etcRPULGgSXC"
   },
   "outputs": [],
   "source": [
    "import matplotlib.pyplot as plt"
   ]
  },
  {
   "cell_type": "code",
   "execution_count": 160,
   "metadata": {
    "colab": {
     "base_uri": "https://localhost:8080/",
     "height": 350
    },
    "colab_type": "code",
    "id": "BtfK5JAOgSXE",
    "outputId": "835c39b0-0e2a-45d1-9fab-50697c3444a6"
   },
   "outputs": [
    {
     "data": {
      "text/plain": [
       "(array([  4.,  15.,  29.,  72.,  99., 111.,  94.,  51.,  17.,   8.]),\n",
       " array([-3.00539939, -2.43250191, -1.85960443, -1.28670695, -0.71380946,\n",
       "        -0.14091198,  0.4319855 ,  1.00488298,  1.57778046,  2.15067795,\n",
       "         2.72357543]),\n",
       " <a list of 10 Patch objects>)"
      ]
     },
     "execution_count": 160,
     "metadata": {
      "tags": []
     },
     "output_type": "execute_result"
    },
    {
     "data": {
      "image/png": "[encoded data removed]",
      "text/plain": [
       "<Figure size 432x288 with 1 Axes>"
      ]
     },
     "metadata": {
      "needs_background": "light",
      "tags": []
     },
     "output_type": "display_data"
    }
   ],
   "source": [
    "plt.hist(z_group[\"Age\"])"
   ]
  },
  {
   "cell_type": "code",
   "execution_count": 161,
   "metadata": {
    "colab": {},
    "colab_type": "code",
    "id": "6zBUAOeBgSXG"
   },
   "outputs": [],
   "source": [
    "fill_na_mean = lambda x : x.fillna(x.mean())"
   ]
  },
  {
   "cell_type": "code",
   "execution_count": 162,
   "metadata": {
    "colab": {
     "base_uri": "https://localhost:8080/",
     "height": 419
    },
    "colab_type": "code",
    "id": "uFXJcMHsgSXI",
    "outputId": "018646bd-d705-4a4b-9d44-7ec77ea61bf2"
   },
   "outputs": [
    {
     "data": {
      "text/html": [
       "<div>\n",
       "<style scoped>\n",
       "    .dataframe tbody tr th:only-of-type {\n",
       "        vertical-align: middle;\n",
       "    }\n",
       "\n",
       "    .dataframe tbody tr th {\n",
       "        vertical-align: top;\n",
       "    }\n",
       "\n",
       "    .dataframe thead th {\n",
       "        text-align: right;\n",
       "    }\n",
       "</style>\n",
       "<table border=\"1\" class=\"dataframe\">\n",
       "  <thead>\n",
       "    <tr style=\"text-align: right;\">\n",
       "      <th></th>\n",
       "      <th>Height</th>\n",
       "      <th>Weight</th>\n",
       "      <th>Age</th>\n",
       "      <th>Income</th>\n",
       "    </tr>\n",
       "  </thead>\n",
       "  <tbody>\n",
       "    <tr>\n",
       "      <th>0</th>\n",
       "      <td>166.804007</td>\n",
       "      <td>59.112901</td>\n",
       "      <td>37.322058</td>\n",
       "      <td>18479.703295</td>\n",
       "    </tr>\n",
       "    <tr>\n",
       "      <th>1</th>\n",
       "      <td>155.776681</td>\n",
       "      <td>80.348638</td>\n",
       "      <td>48.058395</td>\n",
       "      <td>19540.217722</td>\n",
       "    </tr>\n",
       "    <tr>\n",
       "      <th>2</th>\n",
       "      <td>135.687605</td>\n",
       "      <td>40.163796</td>\n",
       "      <td>19.084108</td>\n",
       "      <td>20085.354380</td>\n",
       "    </tr>\n",
       "    <tr>\n",
       "      <th>3</th>\n",
       "      <td>186.693759</td>\n",
       "      <td>59.443447</td>\n",
       "      <td>30.124853</td>\n",
       "      <td>19071.254341</td>\n",
       "    </tr>\n",
       "    <tr>\n",
       "      <th>4</th>\n",
       "      <td>155.881569</td>\n",
       "      <td>98.230917</td>\n",
       "      <td>34.037907</td>\n",
       "      <td>19062.009257</td>\n",
       "    </tr>\n",
       "    <tr>\n",
       "      <th>...</th>\n",
       "      <td>...</td>\n",
       "      <td>...</td>\n",
       "      <td>...</td>\n",
       "      <td>...</td>\n",
       "    </tr>\n",
       "    <tr>\n",
       "      <th>495</th>\n",
       "      <td>182.833879</td>\n",
       "      <td>3.462761</td>\n",
       "      <td>62.882954</td>\n",
       "      <td>21026.843517</td>\n",
       "    </tr>\n",
       "    <tr>\n",
       "      <th>496</th>\n",
       "      <td>89.407098</td>\n",
       "      <td>58.660913</td>\n",
       "      <td>36.363020</td>\n",
       "      <td>18898.518293</td>\n",
       "    </tr>\n",
       "    <tr>\n",
       "      <th>497</th>\n",
       "      <td>191.195269</td>\n",
       "      <td>50.343440</td>\n",
       "      <td>38.098379</td>\n",
       "      <td>21155.929414</td>\n",
       "    </tr>\n",
       "    <tr>\n",
       "      <th>498</th>\n",
       "      <td>89.600419</td>\n",
       "      <td>42.680898</td>\n",
       "      <td>40.536927</td>\n",
       "      <td>18131.271636</td>\n",
       "    </tr>\n",
       "    <tr>\n",
       "      <th>499</th>\n",
       "      <td>212.222116</td>\n",
       "      <td>119.605441</td>\n",
       "      <td>31.710433</td>\n",
       "      <td>18619.657768</td>\n",
       "    </tr>\n",
       "  </tbody>\n",
       "</table>\n",
       "<p>500 rows × 4 columns</p>\n",
       "</div>"
      ],
      "text/plain": [
       "         Height      Weight        Age        Income\n",
       "0    166.804007   59.112901  37.322058  18479.703295\n",
       "1    155.776681   80.348638  48.058395  19540.217722\n",
       "2    135.687605   40.163796  19.084108  20085.354380\n",
       "3    186.693759   59.443447  30.124853  19071.254341\n",
       "4    155.881569   98.230917  34.037907  19062.009257\n",
       "..          ...         ...        ...           ...\n",
       "495  182.833879    3.462761  62.882954  21026.843517\n",
       "496   89.407098   58.660913  36.363020  18898.518293\n",
       "497  191.195269   50.343440  38.098379  21155.929414\n",
       "498   89.600419   42.680898  40.536927  18131.271636\n",
       "499  212.222116  119.605441  31.710433  18619.657768\n",
       "\n",
       "[500 rows x 4 columns]"
      ]
     },
     "execution_count": 162,
     "metadata": {
      "tags": []
     },
     "output_type": "execute_result"
    }
   ],
   "source": [
    "double_group.transform(fill_na_mean)"
   ]
  },
  {
   "cell_type": "markdown",
   "metadata": {
    "colab_type": "text",
    "id": "sxKywfetgSXK"
   },
   "source": [
    "## Operaciones diversas muy útiles"
   ]
  },
  {
   "cell_type": "code",
   "execution_count": 163,
   "metadata": {
    "colab": {
     "base_uri": "https://localhost:8080/",
     "height": 235
    },
    "colab_type": "code",
    "id": "11h8-RmzgSXK",
    "outputId": "99594bde-4518-48ba-e992-affe7005d3e1"
   },
   "outputs": [
    {
     "data": {
      "text/html": [
       "<div>\n",
       "<style scoped>\n",
       "    .dataframe tbody tr th:only-of-type {\n",
       "        vertical-align: middle;\n",
       "    }\n",
       "\n",
       "    .dataframe tbody tr th {\n",
       "        vertical-align: top;\n",
       "    }\n",
       "\n",
       "    .dataframe thead th {\n",
       "        text-align: right;\n",
       "    }\n",
       "</style>\n",
       "<table border=\"1\" class=\"dataframe\">\n",
       "  <thead>\n",
       "    <tr style=\"text-align: right;\">\n",
       "      <th></th>\n",
       "      <th>Gender</th>\n",
       "      <th>Economic Status</th>\n",
       "      <th>Height</th>\n",
       "      <th>Weight</th>\n",
       "      <th>Age</th>\n",
       "      <th>Income</th>\n",
       "    </tr>\n",
       "  </thead>\n",
       "  <tbody>\n",
       "    <tr>\n",
       "      <th>0</th>\n",
       "      <td>Female</td>\n",
       "      <td>Poor</td>\n",
       "      <td>166.804007</td>\n",
       "      <td>59.112901</td>\n",
       "      <td>37.322058</td>\n",
       "      <td>18479.703295</td>\n",
       "    </tr>\n",
       "    <tr>\n",
       "      <th>2</th>\n",
       "      <td>Male</td>\n",
       "      <td>Rich</td>\n",
       "      <td>135.687605</td>\n",
       "      <td>40.163796</td>\n",
       "      <td>19.084108</td>\n",
       "      <td>20085.354380</td>\n",
       "    </tr>\n",
       "    <tr>\n",
       "      <th>5</th>\n",
       "      <td>Male</td>\n",
       "      <td>Poor</td>\n",
       "      <td>176.352323</td>\n",
       "      <td>50.325117</td>\n",
       "      <td>1.459394</td>\n",
       "      <td>19448.821974</td>\n",
       "    </tr>\n",
       "    <tr>\n",
       "      <th>7</th>\n",
       "      <td>Female</td>\n",
       "      <td>Rich</td>\n",
       "      <td>171.331760</td>\n",
       "      <td>52.748110</td>\n",
       "      <td>41.595709</td>\n",
       "      <td>18869.794537</td>\n",
       "    </tr>\n",
       "    <tr>\n",
       "      <th>8</th>\n",
       "      <td>Male</td>\n",
       "      <td>Middle Class</td>\n",
       "      <td>161.440085</td>\n",
       "      <td>76.598448</td>\n",
       "      <td>18.960791</td>\n",
       "      <td>19117.523237</td>\n",
       "    </tr>\n",
       "    <tr>\n",
       "      <th>30</th>\n",
       "      <td>Female</td>\n",
       "      <td>Middle Class</td>\n",
       "      <td>148.732551</td>\n",
       "      <td>87.428975</td>\n",
       "      <td>32.774006</td>\n",
       "      <td>21242.814003</td>\n",
       "    </tr>\n",
       "  </tbody>\n",
       "</table>\n",
       "</div>"
      ],
      "text/plain": [
       "    Gender Economic Status      Height     Weight        Age        Income\n",
       "0   Female            Poor  166.804007  59.112901  37.322058  18479.703295\n",
       "2     Male            Rich  135.687605  40.163796  19.084108  20085.354380\n",
       "5     Male            Poor  176.352323  50.325117   1.459394  19448.821974\n",
       "7   Female            Rich  171.331760  52.748110  41.595709  18869.794537\n",
       "8     Male    Middle Class  161.440085  76.598448  18.960791  19117.523237\n",
       "30  Female    Middle Class  148.732551  87.428975  32.774006  21242.814003"
      ]
     },
     "execution_count": 163,
     "metadata": {
      "tags": []
     },
     "output_type": "execute_result"
    }
   ],
   "source": [
    "double_group.head(1)"
   ]
  },
  {
   "cell_type": "code",
   "execution_count": 164,
   "metadata": {
    "colab": {
     "base_uri": "https://localhost:8080/",
     "height": 235
    },
    "colab_type": "code",
    "id": "hhfbTOxugSXL",
    "outputId": "e0e0fbbc-02d4-4073-c976-6c5a0225d99d"
   },
   "outputs": [
    {
     "data": {
      "text/html": [
       "<div>\n",
       "<style scoped>\n",
       "    .dataframe tbody tr th:only-of-type {\n",
       "        vertical-align: middle;\n",
       "    }\n",
       "\n",
       "    .dataframe tbody tr th {\n",
       "        vertical-align: top;\n",
       "    }\n",
       "\n",
       "    .dataframe thead th {\n",
       "        text-align: right;\n",
       "    }\n",
       "</style>\n",
       "<table border=\"1\" class=\"dataframe\">\n",
       "  <thead>\n",
       "    <tr style=\"text-align: right;\">\n",
       "      <th></th>\n",
       "      <th>Gender</th>\n",
       "      <th>Economic Status</th>\n",
       "      <th>Height</th>\n",
       "      <th>Weight</th>\n",
       "      <th>Age</th>\n",
       "      <th>Income</th>\n",
       "    </tr>\n",
       "  </thead>\n",
       "  <tbody>\n",
       "    <tr>\n",
       "      <th>491</th>\n",
       "      <td>Male</td>\n",
       "      <td>Middle Class</td>\n",
       "      <td>142.710955</td>\n",
       "      <td>54.766100</td>\n",
       "      <td>24.908304</td>\n",
       "      <td>20076.028918</td>\n",
       "    </tr>\n",
       "    <tr>\n",
       "      <th>492</th>\n",
       "      <td>Female</td>\n",
       "      <td>Middle Class</td>\n",
       "      <td>135.617267</td>\n",
       "      <td>53.615845</td>\n",
       "      <td>57.641346</td>\n",
       "      <td>19790.519611</td>\n",
       "    </tr>\n",
       "    <tr>\n",
       "      <th>495</th>\n",
       "      <td>Male</td>\n",
       "      <td>Rich</td>\n",
       "      <td>182.833879</td>\n",
       "      <td>3.462761</td>\n",
       "      <td>62.882954</td>\n",
       "      <td>21026.843517</td>\n",
       "    </tr>\n",
       "    <tr>\n",
       "      <th>496</th>\n",
       "      <td>Female</td>\n",
       "      <td>Poor</td>\n",
       "      <td>89.407098</td>\n",
       "      <td>58.660913</td>\n",
       "      <td>36.363020</td>\n",
       "      <td>18898.518293</td>\n",
       "    </tr>\n",
       "    <tr>\n",
       "      <th>497</th>\n",
       "      <td>Female</td>\n",
       "      <td>Rich</td>\n",
       "      <td>191.195269</td>\n",
       "      <td>50.343440</td>\n",
       "      <td>38.098379</td>\n",
       "      <td>21155.929414</td>\n",
       "    </tr>\n",
       "    <tr>\n",
       "      <th>499</th>\n",
       "      <td>Male</td>\n",
       "      <td>Poor</td>\n",
       "      <td>212.222116</td>\n",
       "      <td>119.605441</td>\n",
       "      <td>31.710433</td>\n",
       "      <td>18619.657768</td>\n",
       "    </tr>\n",
       "  </tbody>\n",
       "</table>\n",
       "</div>"
      ],
      "text/plain": [
       "     Gender Economic Status      Height      Weight        Age        Income\n",
       "491    Male    Middle Class  142.710955   54.766100  24.908304  20076.028918\n",
       "492  Female    Middle Class  135.617267   53.615845  57.641346  19790.519611\n",
       "495    Male            Rich  182.833879    3.462761  62.882954  21026.843517\n",
       "496  Female            Poor   89.407098   58.660913  36.363020  18898.518293\n",
       "497  Female            Rich  191.195269   50.343440  38.098379  21155.929414\n",
       "499    Male            Poor  212.222116  119.605441  31.710433  18619.657768"
      ]
     },
     "execution_count": 164,
     "metadata": {
      "tags": []
     },
     "output_type": "execute_result"
    }
   ],
   "source": [
    "double_group.tail(1)"
   ]
  },
  {
   "cell_type": "code",
   "execution_count": 165,
   "metadata": {
    "colab": {
     "base_uri": "https://localhost:8080/",
     "height": 266
    },
    "colab_type": "code",
    "id": "488AvOsngSXN",
    "outputId": "ff71bd17-3ae3-4f40-ced8-05e4da5758ee"
   },
   "outputs": [
    {
     "data": {
      "text/html": [
       "<div>\n",
       "<style scoped>\n",
       "    .dataframe tbody tr th:only-of-type {\n",
       "        vertical-align: middle;\n",
       "    }\n",
       "\n",
       "    .dataframe tbody tr th {\n",
       "        vertical-align: top;\n",
       "    }\n",
       "\n",
       "    .dataframe thead th {\n",
       "        text-align: right;\n",
       "    }\n",
       "</style>\n",
       "<table border=\"1\" class=\"dataframe\">\n",
       "  <thead>\n",
       "    <tr style=\"text-align: right;\">\n",
       "      <th></th>\n",
       "      <th></th>\n",
       "      <th>Height</th>\n",
       "      <th>Weight</th>\n",
       "      <th>Age</th>\n",
       "      <th>Income</th>\n",
       "    </tr>\n",
       "    <tr>\n",
       "      <th>Gender</th>\n",
       "      <th>Economic Status</th>\n",
       "      <th></th>\n",
       "      <th></th>\n",
       "      <th></th>\n",
       "      <th></th>\n",
       "    </tr>\n",
       "  </thead>\n",
       "  <tbody>\n",
       "    <tr>\n",
       "      <th rowspan=\"3\" valign=\"top\">Female</th>\n",
       "      <th>Middle Class</th>\n",
       "      <td>194.540507</td>\n",
       "      <td>45.688593</td>\n",
       "      <td>24.176502</td>\n",
       "      <td>19825.786107</td>\n",
       "    </tr>\n",
       "    <tr>\n",
       "      <th>Poor</th>\n",
       "      <td>129.355192</td>\n",
       "      <td>114.709856</td>\n",
       "      <td>32.787448</td>\n",
       "      <td>19868.856499</td>\n",
       "    </tr>\n",
       "    <tr>\n",
       "      <th>Rich</th>\n",
       "      <td>176.500192</td>\n",
       "      <td>88.693127</td>\n",
       "      <td>18.765395</td>\n",
       "      <td>19436.174179</td>\n",
       "    </tr>\n",
       "    <tr>\n",
       "      <th rowspan=\"3\" valign=\"top\">Male</th>\n",
       "      <th>Middle Class</th>\n",
       "      <td>102.716330</td>\n",
       "      <td>77.666727</td>\n",
       "      <td>54.417503</td>\n",
       "      <td>18248.541984</td>\n",
       "    </tr>\n",
       "    <tr>\n",
       "      <th>Poor</th>\n",
       "      <td>170.551029</td>\n",
       "      <td>53.614237</td>\n",
       "      <td>15.997468</td>\n",
       "      <td>21425.444754</td>\n",
       "    </tr>\n",
       "    <tr>\n",
       "      <th>Rich</th>\n",
       "      <td>195.268574</td>\n",
       "      <td>59.413978</td>\n",
       "      <td>26.309024</td>\n",
       "      <td>20291.297142</td>\n",
       "    </tr>\n",
       "  </tbody>\n",
       "</table>\n",
       "</div>"
      ],
      "text/plain": [
       "                            Height      Weight        Age        Income\n",
       "Gender Economic Status                                                 \n",
       "Female Middle Class     194.540507   45.688593  24.176502  19825.786107\n",
       "       Poor             129.355192  114.709856  32.787448  19868.856499\n",
       "       Rich             176.500192   88.693127  18.765395  19436.174179\n",
       "Male   Middle Class     102.716330   77.666727  54.417503  18248.541984\n",
       "       Poor             170.551029   53.614237  15.997468  21425.444754\n",
       "       Rich             195.268574   59.413978  26.309024  20291.297142"
      ]
     },
     "execution_count": 165,
     "metadata": {
      "tags": []
     },
     "output_type": "execute_result"
    }
   ],
   "source": [
    "double_group.nth(32)"
   ]
  },
  {
   "cell_type": "code",
   "execution_count": 166,
   "metadata": {
    "colab": {
     "base_uri": "https://localhost:8080/",
     "height": 142
    },
    "colab_type": "code",
    "id": "RyF0MQozgSXP",
    "outputId": "652ef8b2-835f-4977-ef89-85e221352d87"
   },
   "outputs": [
    {
     "data": {
      "text/html": [
       "<div>\n",
       "<style scoped>\n",
       "    .dataframe tbody tr th:only-of-type {\n",
       "        vertical-align: middle;\n",
       "    }\n",
       "\n",
       "    .dataframe tbody tr th {\n",
       "        vertical-align: top;\n",
       "    }\n",
       "\n",
       "    .dataframe thead th {\n",
       "        text-align: right;\n",
       "    }\n",
       "</style>\n",
       "<table border=\"1\" class=\"dataframe\">\n",
       "  <thead>\n",
       "    <tr style=\"text-align: right;\">\n",
       "      <th></th>\n",
       "      <th></th>\n",
       "      <th>Height</th>\n",
       "      <th>Weight</th>\n",
       "      <th>Age</th>\n",
       "      <th>Income</th>\n",
       "    </tr>\n",
       "    <tr>\n",
       "      <th>Gender</th>\n",
       "      <th>Economic Status</th>\n",
       "      <th></th>\n",
       "      <th></th>\n",
       "      <th></th>\n",
       "      <th></th>\n",
       "    </tr>\n",
       "  </thead>\n",
       "  <tbody>\n",
       "    <tr>\n",
       "      <th rowspan=\"2\" valign=\"top\">Female</th>\n",
       "      <th>Middle Class</th>\n",
       "      <td>115.477364</td>\n",
       "      <td>129.193727</td>\n",
       "      <td>31.431077</td>\n",
       "      <td>19074.056617</td>\n",
       "    </tr>\n",
       "    <tr>\n",
       "      <th>Poor</th>\n",
       "      <td>165.216717</td>\n",
       "      <td>88.377419</td>\n",
       "      <td>36.218838</td>\n",
       "      <td>20538.109179</td>\n",
       "    </tr>\n",
       "  </tbody>\n",
       "</table>\n",
       "</div>"
      ],
      "text/plain": [
       "                            Height      Weight        Age        Income\n",
       "Gender Economic Status                                                 \n",
       "Female Middle Class     115.477364  129.193727  31.431077  19074.056617\n",
       "       Poor             165.216717   88.377419  36.218838  20538.109179"
      ]
     },
     "execution_count": 166,
     "metadata": {
      "tags": []
     },
     "output_type": "execute_result"
    }
   ],
   "source": [
    "double_group.nth(82)"
   ]
  },
  {
   "cell_type": "code",
   "execution_count": 167,
   "metadata": {
    "colab": {},
    "colab_type": "code",
    "id": "i_4pQVIugSXS"
   },
   "outputs": [],
   "source": [
    "data_sorted = data.sort_values([\"Age\", \"Income\"])"
   ]
  },
  {
   "cell_type": "code",
   "execution_count": 168,
   "metadata": {
    "colab": {
     "base_uri": "https://localhost:8080/",
     "height": 359
    },
    "colab_type": "code",
    "id": "p1c6iCnNgSXT",
    "outputId": "17d480be-8945-47fd-b4e3-0302f15394aa"
   },
   "outputs": [
    {
     "data": {
      "text/html": [
       "<div>\n",
       "<style scoped>\n",
       "    .dataframe tbody tr th:only-of-type {\n",
       "        vertical-align: middle;\n",
       "    }\n",
       "\n",
       "    .dataframe tbody tr th {\n",
       "        vertical-align: top;\n",
       "    }\n",
       "\n",
       "    .dataframe thead th {\n",
       "        text-align: right;\n",
       "    }\n",
       "</style>\n",
       "<table border=\"1\" class=\"dataframe\">\n",
       "  <thead>\n",
       "    <tr style=\"text-align: right;\">\n",
       "      <th></th>\n",
       "      <th>Gender</th>\n",
       "      <th>Economic Status</th>\n",
       "      <th>Height</th>\n",
       "      <th>Weight</th>\n",
       "      <th>Age</th>\n",
       "      <th>Income</th>\n",
       "    </tr>\n",
       "  </thead>\n",
       "  <tbody>\n",
       "    <tr>\n",
       "      <th>51</th>\n",
       "      <td>Male</td>\n",
       "      <td>Poor</td>\n",
       "      <td>175.339770</td>\n",
       "      <td>47.293390</td>\n",
       "      <td>-10.160034</td>\n",
       "      <td>18374.234334</td>\n",
       "    </tr>\n",
       "    <tr>\n",
       "      <th>456</th>\n",
       "      <td>Female</td>\n",
       "      <td>Rich</td>\n",
       "      <td>203.669138</td>\n",
       "      <td>65.337512</td>\n",
       "      <td>-7.212099</td>\n",
       "      <td>19657.720982</td>\n",
       "    </tr>\n",
       "    <tr>\n",
       "      <th>72</th>\n",
       "      <td>Female</td>\n",
       "      <td>Rich</td>\n",
       "      <td>144.193571</td>\n",
       "      <td>67.569464</td>\n",
       "      <td>-4.085489</td>\n",
       "      <td>20263.340536</td>\n",
       "    </tr>\n",
       "    <tr>\n",
       "      <th>319</th>\n",
       "      <td>Male</td>\n",
       "      <td>Middle Class</td>\n",
       "      <td>197.493502</td>\n",
       "      <td>86.716163</td>\n",
       "      <td>-3.294550</td>\n",
       "      <td>20408.253051</td>\n",
       "    </tr>\n",
       "    <tr>\n",
       "      <th>115</th>\n",
       "      <td>Male</td>\n",
       "      <td>Poor</td>\n",
       "      <td>126.954324</td>\n",
       "      <td>47.453429</td>\n",
       "      <td>-0.319632</td>\n",
       "      <td>21250.717792</td>\n",
       "    </tr>\n",
       "    <tr>\n",
       "      <th>314</th>\n",
       "      <td>Female</td>\n",
       "      <td>Poor</td>\n",
       "      <td>131.630613</td>\n",
       "      <td>56.550679</td>\n",
       "      <td>-0.077664</td>\n",
       "      <td>20773.481263</td>\n",
       "    </tr>\n",
       "    <tr>\n",
       "      <th>203</th>\n",
       "      <td>Male</td>\n",
       "      <td>Poor</td>\n",
       "      <td>111.092446</td>\n",
       "      <td>51.468274</td>\n",
       "      <td>1.070041</td>\n",
       "      <td>21017.345256</td>\n",
       "    </tr>\n",
       "    <tr>\n",
       "      <th>79</th>\n",
       "      <td>Male</td>\n",
       "      <td>Poor</td>\n",
       "      <td>136.255775</td>\n",
       "      <td>45.800384</td>\n",
       "      <td>1.314991</td>\n",
       "      <td>19380.604215</td>\n",
       "    </tr>\n",
       "    <tr>\n",
       "      <th>205</th>\n",
       "      <td>Male</td>\n",
       "      <td>Rich</td>\n",
       "      <td>147.641171</td>\n",
       "      <td>34.531730</td>\n",
       "      <td>1.357078</td>\n",
       "      <td>19538.330294</td>\n",
       "    </tr>\n",
       "    <tr>\n",
       "      <th>5</th>\n",
       "      <td>Male</td>\n",
       "      <td>Poor</td>\n",
       "      <td>176.352323</td>\n",
       "      <td>50.325117</td>\n",
       "      <td>1.459394</td>\n",
       "      <td>19448.821974</td>\n",
       "    </tr>\n",
       "  </tbody>\n",
       "</table>\n",
       "</div>"
      ],
      "text/plain": [
       "     Gender Economic Status      Height     Weight        Age        Income\n",
       "51     Male            Poor  175.339770  47.293390 -10.160034  18374.234334\n",
       "456  Female            Rich  203.669138  65.337512  -7.212099  19657.720982\n",
       "72   Female            Rich  144.193571  67.569464  -4.085489  20263.340536\n",
       "319    Male    Middle Class  197.493502  86.716163  -3.294550  20408.253051\n",
       "115    Male            Poor  126.954324  47.453429  -0.319632  21250.717792\n",
       "314  Female            Poor  131.630613  56.550679  -0.077664  20773.481263\n",
       "203    Male            Poor  111.092446  51.468274   1.070041  21017.345256\n",
       "79     Male            Poor  136.255775  45.800384   1.314991  19380.604215\n",
       "205    Male            Rich  147.641171  34.531730   1.357078  19538.330294\n",
       "5      Male            Poor  176.352323  50.325117   1.459394  19448.821974"
      ]
     },
     "execution_count": 168,
     "metadata": {
      "tags": []
     },
     "output_type": "execute_result"
    }
   ],
   "source": [
    "data_sorted.head(10)"
   ]
  },
  {
   "cell_type": "code",
   "execution_count": 169,
   "metadata": {
    "colab": {},
    "colab_type": "code",
    "id": "uEjkcOuYgSXW"
   },
   "outputs": [],
   "source": [
    "age_grouped = data_sorted.groupby(\"Gender\")"
   ]
  },
  {
   "cell_type": "code",
   "execution_count": 170,
   "metadata": {
    "colab": {
     "base_uri": "https://localhost:8080/",
     "height": 111
    },
    "colab_type": "code",
    "id": "RGSbkDiygSXY",
    "outputId": "136b67a1-7047-41b7-aacb-97634afbe286"
   },
   "outputs": [
    {
     "data": {
      "text/html": [
       "<div>\n",
       "<style scoped>\n",
       "    .dataframe tbody tr th:only-of-type {\n",
       "        vertical-align: middle;\n",
       "    }\n",
       "\n",
       "    .dataframe tbody tr th {\n",
       "        vertical-align: top;\n",
       "    }\n",
       "\n",
       "    .dataframe thead th {\n",
       "        text-align: right;\n",
       "    }\n",
       "</style>\n",
       "<table border=\"1\" class=\"dataframe\">\n",
       "  <thead>\n",
       "    <tr style=\"text-align: right;\">\n",
       "      <th></th>\n",
       "      <th>Gender</th>\n",
       "      <th>Economic Status</th>\n",
       "      <th>Height</th>\n",
       "      <th>Weight</th>\n",
       "      <th>Age</th>\n",
       "      <th>Income</th>\n",
       "    </tr>\n",
       "  </thead>\n",
       "  <tbody>\n",
       "    <tr>\n",
       "      <th>51</th>\n",
       "      <td>Male</td>\n",
       "      <td>Poor</td>\n",
       "      <td>175.339770</td>\n",
       "      <td>47.293390</td>\n",
       "      <td>-10.160034</td>\n",
       "      <td>18374.234334</td>\n",
       "    </tr>\n",
       "    <tr>\n",
       "      <th>456</th>\n",
       "      <td>Female</td>\n",
       "      <td>Rich</td>\n",
       "      <td>203.669138</td>\n",
       "      <td>65.337512</td>\n",
       "      <td>-7.212099</td>\n",
       "      <td>19657.720982</td>\n",
       "    </tr>\n",
       "  </tbody>\n",
       "</table>\n",
       "</div>"
      ],
      "text/plain": [
       "     Gender Economic Status      Height     Weight        Age        Income\n",
       "51     Male            Poor  175.339770  47.293390 -10.160034  18374.234334\n",
       "456  Female            Rich  203.669138  65.337512  -7.212099  19657.720982"
      ]
     },
     "execution_count": 170,
     "metadata": {
      "tags": []
     },
     "output_type": "execute_result"
    }
   ],
   "source": [
    "age_grouped.head(1)"
   ]
  },
  {
   "cell_type": "code",
   "execution_count": 171,
   "metadata": {
    "colab": {
     "base_uri": "https://localhost:8080/",
     "height": 111
    },
    "colab_type": "code",
    "id": "XfHIOmaNgSXa",
    "outputId": "d567ba99-f9fb-45ed-f7d7-d7c616cc8d03"
   },
   "outputs": [
    {
     "data": {
      "text/html": [
       "<div>\n",
       "<style scoped>\n",
       "    .dataframe tbody tr th:only-of-type {\n",
       "        vertical-align: middle;\n",
       "    }\n",
       "\n",
       "    .dataframe tbody tr th {\n",
       "        vertical-align: top;\n",
       "    }\n",
       "\n",
       "    .dataframe thead th {\n",
       "        text-align: right;\n",
       "    }\n",
       "</style>\n",
       "<table border=\"1\" class=\"dataframe\">\n",
       "  <thead>\n",
       "    <tr style=\"text-align: right;\">\n",
       "      <th></th>\n",
       "      <th>Gender</th>\n",
       "      <th>Economic Status</th>\n",
       "      <th>Height</th>\n",
       "      <th>Weight</th>\n",
       "      <th>Age</th>\n",
       "      <th>Income</th>\n",
       "    </tr>\n",
       "  </thead>\n",
       "  <tbody>\n",
       "    <tr>\n",
       "      <th>495</th>\n",
       "      <td>Male</td>\n",
       "      <td>Rich</td>\n",
       "      <td>182.833879</td>\n",
       "      <td>3.462761</td>\n",
       "      <td>62.882954</td>\n",
       "      <td>21026.843517</td>\n",
       "    </tr>\n",
       "    <tr>\n",
       "      <th>404</th>\n",
       "      <td>Female</td>\n",
       "      <td>Middle Class</td>\n",
       "      <td>192.926190</td>\n",
       "      <td>47.128583</td>\n",
       "      <td>67.282584</td>\n",
       "      <td>20711.233761</td>\n",
       "    </tr>\n",
       "  </tbody>\n",
       "</table>\n",
       "</div>"
      ],
      "text/plain": [
       "     Gender Economic Status      Height     Weight        Age        Income\n",
       "495    Male            Rich  182.833879   3.462761  62.882954  21026.843517\n",
       "404  Female    Middle Class  192.926190  47.128583  67.282584  20711.233761"
      ]
     },
     "execution_count": 171,
     "metadata": {
      "tags": []
     },
     "output_type": "execute_result"
    }
   ],
   "source": [
    "age_grouped.tail(1)"
   ]
  },
  {
   "cell_type": "markdown",
   "metadata": {
    "colab_type": "text",
    "id": "xIEqUo3sgSXc"
   },
   "source": [
    "# Conjunto de entrenamiento y conjunto de testing"
   ]
  },
  {
   "cell_type": "code",
   "execution_count": 172,
   "metadata": {
    "colab": {},
    "colab_type": "code",
    "id": "RsZNBJZJgSXd"
   },
   "outputs": [],
   "source": [
    "import pandas as pd"
   ]
  },
  {
   "cell_type": "code",
   "execution_count": 173,
   "metadata": {
    "colab": {},
    "colab_type": "code",
    "id": "4x2wnGjAgSXe"
   },
   "outputs": [],
   "source": [
    "data = pd.read_csv(\"/content/python-ml-course/datasets/customer-churn-model/Customer Churn Model.txt\")"
   ]
  },
  {
   "cell_type": "code",
   "execution_count": 174,
   "metadata": {
    "colab": {
     "base_uri": "https://localhost:8080/",
     "height": 34
    },
    "colab_type": "code",
    "id": "7RK3BfVdgSXg",
    "outputId": "c6fed471-00e3-4dd2-b340-129c61c1ab09"
   },
   "outputs": [
    {
     "data": {
      "text/plain": [
       "3333"
      ]
     },
     "execution_count": 174,
     "metadata": {
      "tags": []
     },
     "output_type": "execute_result"
    }
   ],
   "source": [
    "len(data)"
   ]
  },
  {
   "cell_type": "markdown",
   "metadata": {
    "colab_type": "text",
    "id": "emxHSY8fgSXi"
   },
   "source": [
    "## Dividir utilizando la distribución normal"
   ]
  },
  {
   "cell_type": "code",
   "execution_count": 175,
   "metadata": {
    "colab": {},
    "colab_type": "code",
    "id": "SvIlTHYLgSXj"
   },
   "outputs": [],
   "source": [
    "a = np.random.randn(len(data))"
   ]
  },
  {
   "cell_type": "code",
   "execution_count": 176,
   "metadata": {
    "colab": {
     "base_uri": "https://localhost:8080/",
     "height": 350
    },
    "colab_type": "code",
    "id": "VeniAGPOgSXl",
    "outputId": "9979a089-d852-4aba-9473-b595cf8c7b0b"
   },
   "outputs": [
    {
     "data": {
      "text/plain": [
       "(array([  3.,  14.,  87., 342., 722., 984., 753., 317.,  97.,  14.]),\n",
       " array([-3.9760411 , -3.24755429, -2.51906748, -1.79058066, -1.06209385,\n",
       "        -0.33360704,  0.39487978,  1.12336659,  1.8518534 ,  2.58034022,\n",
       "         3.30882703]),\n",
       " <a list of 10 Patch objects>)"
      ]
     },
     "execution_count": 176,
     "metadata": {
      "tags": []
     },
     "output_type": "execute_result"
    },
    {
     "data": {
      "image/png": "[encoded data removed]",
      "text/plain": [
       "<Figure size 432x288 with 1 Axes>"
      ]
     },
     "metadata": {
      "needs_background": "light",
      "tags": []
     },
     "output_type": "display_data"
    }
   ],
   "source": [
    "plt.hist(a)"
   ]
  },
  {
   "cell_type": "code",
   "execution_count": 177,
   "metadata": {
    "colab": {},
    "colab_type": "code",
    "id": "HxQCBUQLgSXn"
   },
   "outputs": [],
   "source": [
    "check = (a<0.75)"
   ]
  },
  {
   "cell_type": "code",
   "execution_count": 178,
   "metadata": {
    "colab": {
     "base_uri": "https://localhost:8080/",
     "height": 34
    },
    "colab_type": "code",
    "id": "suHFPSVzgSXo",
    "outputId": "2fdaeeed-a73a-48f7-ebdc-e31fa6045fac"
   },
   "outputs": [
    {
     "data": {
      "text/plain": [
       "array([ True,  True, False, ...,  True, False,  True])"
      ]
     },
     "execution_count": 178,
     "metadata": {
      "tags": []
     },
     "output_type": "execute_result"
    }
   ],
   "source": [
    "check"
   ]
  },
  {
   "cell_type": "code",
   "execution_count": 179,
   "metadata": {
    "colab": {
     "base_uri": "https://localhost:8080/",
     "height": 435
    },
    "colab_type": "code",
    "id": "_BJRJoB-gSXp",
    "outputId": "c5bf5c58-8dcf-498b-ce91-501e4c92ab28"
   },
   "outputs": [
    {
     "name": "stderr",
     "output_type": "stream",
     "text": [
      "<string>:6: RuntimeWarning: Converting input from bool to <class 'numpy.uint8'> for compatibility.\n"
     ]
    },
    {
     "data": {
      "text/plain": [
       "(array([[0., 0., 0., ..., 0., 0., 0.],\n",
       "        [0., 0., 0., ..., 0., 0., 0.],\n",
       "        [0., 0., 0., ..., 0., 0., 0.],\n",
       "        ...,\n",
       "        [0., 0., 0., ..., 0., 0., 0.],\n",
       "        [0., 0., 0., ..., 0., 0., 0.],\n",
       "        [0., 0., 0., ..., 0., 0., 0.]]),\n",
       " array([0. , 0.1, 0.2, 0.3, 0.4, 0.5, 0.6, 0.7, 0.8, 0.9, 1. ]),\n",
       " <a list of 3333 Lists of Patches objects>)"
      ]
     },
     "execution_count": 179,
     "metadata": {
      "tags": []
     },
     "output_type": "execute_result"
    },
    {
     "data": {
      "image/png": "[encoded data removed]",
      "text/plain": [
       "<Figure size 432x288 with 1 Axes>"
      ]
     },
     "metadata": {
      "needs_background": "light",
      "tags": []
     },
     "output_type": "display_data"
    }
   ],
   "source": [
    "plt.hist(np.bitwise_xor(check[True],check[False]))"
   ]
  },
  {
   "cell_type": "code",
   "execution_count": 180,
   "metadata": {
    "colab": {},
    "colab_type": "code",
    "id": "3s950E61gSXr"
   },
   "outputs": [],
   "source": [
    "training = data[check]\n",
    "testing = data[~check]"
   ]
  },
  {
   "cell_type": "code",
   "execution_count": 181,
   "metadata": {
    "colab": {
     "base_uri": "https://localhost:8080/",
     "height": 34
    },
    "colab_type": "code",
    "id": "ox-b-XjBgSXs",
    "outputId": "0a9dee54-c2f2-458f-98e7-e898aff6f6db"
   },
   "outputs": [
    {
     "data": {
      "text/plain": [
       "2562"
      ]
     },
     "execution_count": 181,
     "metadata": {
      "tags": []
     },
     "output_type": "execute_result"
    }
   ],
   "source": [
    "len(training)"
   ]
  },
  {
   "cell_type": "code",
   "execution_count": 182,
   "metadata": {
    "colab": {
     "base_uri": "https://localhost:8080/",
     "height": 34
    },
    "colab_type": "code",
    "id": "oEzieDEngSXv",
    "outputId": "f2455611-6d4b-49c9-c24d-c1c075667142"
   },
   "outputs": [
    {
     "data": {
      "text/plain": [
       "771"
      ]
     },
     "execution_count": 182,
     "metadata": {
      "tags": []
     },
     "output_type": "execute_result"
    }
   ],
   "source": [
    "len(testing)"
   ]
  },
  {
   "cell_type": "markdown",
   "metadata": {
    "colab_type": "text",
    "id": "IXMl9pNjgSXx"
   },
   "source": [
    "## Con la libreria sklearn"
   ]
  },
  {
   "cell_type": "code",
   "execution_count": 183,
   "metadata": {
    "colab": {},
    "colab_type": "code",
    "id": "4j2ttH9BgSXx"
   },
   "outputs": [],
   "source": [
    "\n",
    "from sklearn.model_selection import train_test_split"
   ]
  },
  {
   "cell_type": "code",
   "execution_count": 184,
   "metadata": {
    "colab": {},
    "colab_type": "code",
    "id": "Ye7E8gOhgSXz"
   },
   "outputs": [],
   "source": [
    "train, test = train_test_split(data, test_size = 0.2)"
   ]
  },
  {
   "cell_type": "code",
   "execution_count": 185,
   "metadata": {
    "colab": {
     "base_uri": "https://localhost:8080/",
     "height": 34
    },
    "colab_type": "code",
    "id": "lg3mDPR-gSX0",
    "outputId": "71160552-6df4-434a-860e-c55978e8705e"
   },
   "outputs": [
    {
     "data": {
      "text/plain": [
       "2666"
      ]
     },
     "execution_count": 185,
     "metadata": {
      "tags": []
     },
     "output_type": "execute_result"
    }
   ],
   "source": [
    "len(train)"
   ]
  },
  {
   "cell_type": "code",
   "execution_count": 186,
   "metadata": {
    "colab": {
     "base_uri": "https://localhost:8080/",
     "height": 34
    },
    "colab_type": "code",
    "id": "LsB2jr3pgSX3",
    "outputId": "c063ba3b-5fa4-46a8-b247-e2592994e056"
   },
   "outputs": [
    {
     "data": {
      "text/plain": [
       "667"
      ]
     },
     "execution_count": 186,
     "metadata": {
      "tags": []
     },
     "output_type": "execute_result"
    }
   ],
   "source": [
    "len(test)"
   ]
  },
  {
   "cell_type": "markdown",
   "metadata": {
    "colab_type": "text",
    "id": "x3bQ6cYugSX5"
   },
   "source": [
    "## Usando una función de shuffle"
   ]
  },
  {
   "cell_type": "code",
   "execution_count": 187,
   "metadata": {
    "colab": {},
    "colab_type": "code",
    "id": "9gt9DD6fgSX5"
   },
   "outputs": [],
   "source": [
    "import numpy as np"
   ]
  },
  {
   "cell_type": "code",
   "execution_count": 188,
   "metadata": {
    "colab": {
     "base_uri": "https://localhost:8080/",
     "height": 326
    },
    "colab_type": "code",
    "id": "ulS-8ulYgSX6",
    "outputId": "fe2be2a5-238f-4458-920b-8387491fa53e"
   },
   "outputs": [
    {
     "data": {
      "text/html": [
       "<div>\n",
       "<style scoped>\n",
       "    .dataframe tbody tr th:only-of-type {\n",
       "        vertical-align: middle;\n",
       "    }\n",
       "\n",
       "    .dataframe tbody tr th {\n",
       "        vertical-align: top;\n",
       "    }\n",
       "\n",
       "    .dataframe thead th {\n",
       "        text-align: right;\n",
       "    }\n",
       "</style>\n",
       "<table border=\"1\" class=\"dataframe\">\n",
       "  <thead>\n",
       "    <tr style=\"text-align: right;\">\n",
       "      <th></th>\n",
       "      <th>State</th>\n",
       "      <th>Account Length</th>\n",
       "      <th>Area Code</th>\n",
       "      <th>Phone</th>\n",
       "      <th>Int'l Plan</th>\n",
       "      <th>VMail Plan</th>\n",
       "      <th>VMail Message</th>\n",
       "      <th>Day Mins</th>\n",
       "      <th>Day Calls</th>\n",
       "      <th>Day Charge</th>\n",
       "      <th>Eve Mins</th>\n",
       "      <th>Eve Calls</th>\n",
       "      <th>Eve Charge</th>\n",
       "      <th>Night Mins</th>\n",
       "      <th>Night Calls</th>\n",
       "      <th>Night Charge</th>\n",
       "      <th>Intl Mins</th>\n",
       "      <th>Intl Calls</th>\n",
       "      <th>Intl Charge</th>\n",
       "      <th>CustServ Calls</th>\n",
       "      <th>Churn?</th>\n",
       "    </tr>\n",
       "  </thead>\n",
       "  <tbody>\n",
       "    <tr>\n",
       "      <th>0</th>\n",
       "      <td>KS</td>\n",
       "      <td>128</td>\n",
       "      <td>415</td>\n",
       "      <td>382-4657</td>\n",
       "      <td>no</td>\n",
       "      <td>yes</td>\n",
       "      <td>25</td>\n",
       "      <td>265.1</td>\n",
       "      <td>110</td>\n",
       "      <td>45.07</td>\n",
       "      <td>197.4</td>\n",
       "      <td>99</td>\n",
       "      <td>16.78</td>\n",
       "      <td>244.7</td>\n",
       "      <td>91</td>\n",
       "      <td>11.01</td>\n",
       "      <td>10.0</td>\n",
       "      <td>3</td>\n",
       "      <td>2.70</td>\n",
       "      <td>1</td>\n",
       "      <td>False.</td>\n",
       "    </tr>\n",
       "    <tr>\n",
       "      <th>1</th>\n",
       "      <td>OH</td>\n",
       "      <td>107</td>\n",
       "      <td>415</td>\n",
       "      <td>371-7191</td>\n",
       "      <td>no</td>\n",
       "      <td>yes</td>\n",
       "      <td>26</td>\n",
       "      <td>161.6</td>\n",
       "      <td>123</td>\n",
       "      <td>27.47</td>\n",
       "      <td>195.5</td>\n",
       "      <td>103</td>\n",
       "      <td>16.62</td>\n",
       "      <td>254.4</td>\n",
       "      <td>103</td>\n",
       "      <td>11.45</td>\n",
       "      <td>13.7</td>\n",
       "      <td>3</td>\n",
       "      <td>3.70</td>\n",
       "      <td>1</td>\n",
       "      <td>False.</td>\n",
       "    </tr>\n",
       "    <tr>\n",
       "      <th>2</th>\n",
       "      <td>NJ</td>\n",
       "      <td>137</td>\n",
       "      <td>415</td>\n",
       "      <td>358-1921</td>\n",
       "      <td>no</td>\n",
       "      <td>no</td>\n",
       "      <td>0</td>\n",
       "      <td>243.4</td>\n",
       "      <td>114</td>\n",
       "      <td>41.38</td>\n",
       "      <td>121.2</td>\n",
       "      <td>110</td>\n",
       "      <td>10.30</td>\n",
       "      <td>162.6</td>\n",
       "      <td>104</td>\n",
       "      <td>7.32</td>\n",
       "      <td>12.2</td>\n",
       "      <td>5</td>\n",
       "      <td>3.29</td>\n",
       "      <td>0</td>\n",
       "      <td>False.</td>\n",
       "    </tr>\n",
       "    <tr>\n",
       "      <th>3</th>\n",
       "      <td>OH</td>\n",
       "      <td>84</td>\n",
       "      <td>408</td>\n",
       "      <td>375-9999</td>\n",
       "      <td>yes</td>\n",
       "      <td>no</td>\n",
       "      <td>0</td>\n",
       "      <td>299.4</td>\n",
       "      <td>71</td>\n",
       "      <td>50.90</td>\n",
       "      <td>61.9</td>\n",
       "      <td>88</td>\n",
       "      <td>5.26</td>\n",
       "      <td>196.9</td>\n",
       "      <td>89</td>\n",
       "      <td>8.86</td>\n",
       "      <td>6.6</td>\n",
       "      <td>7</td>\n",
       "      <td>1.78</td>\n",
       "      <td>2</td>\n",
       "      <td>False.</td>\n",
       "    </tr>\n",
       "    <tr>\n",
       "      <th>4</th>\n",
       "      <td>OK</td>\n",
       "      <td>75</td>\n",
       "      <td>415</td>\n",
       "      <td>330-6626</td>\n",
       "      <td>yes</td>\n",
       "      <td>no</td>\n",
       "      <td>0</td>\n",
       "      <td>166.7</td>\n",
       "      <td>113</td>\n",
       "      <td>28.34</td>\n",
       "      <td>148.3</td>\n",
       "      <td>122</td>\n",
       "      <td>12.61</td>\n",
       "      <td>186.9</td>\n",
       "      <td>121</td>\n",
       "      <td>8.41</td>\n",
       "      <td>10.1</td>\n",
       "      <td>3</td>\n",
       "      <td>2.73</td>\n",
       "      <td>3</td>\n",
       "      <td>False.</td>\n",
       "    </tr>\n",
       "  </tbody>\n",
       "</table>\n",
       "</div>"
      ],
      "text/plain": [
       "  State  Account Length  Area Code  ... Intl Charge CustServ Calls  Churn?\n",
       "0    KS             128        415  ...        2.70              1  False.\n",
       "1    OH             107        415  ...        3.70              1  False.\n",
       "2    NJ             137        415  ...        3.29              0  False.\n",
       "3    OH              84        408  ...        1.78              2  False.\n",
       "4    OK              75        415  ...        2.73              3  False.\n",
       "\n",
       "[5 rows x 21 columns]"
      ]
     },
     "execution_count": 188,
     "metadata": {
      "tags": []
     },
     "output_type": "execute_result"
    }
   ],
   "source": [
    "data.head()"
   ]
  },
  {
   "cell_type": "code",
   "execution_count": 189,
   "metadata": {
    "colab": {},
    "colab_type": "code",
    "id": "ehIwMm0HgSX8"
   },
   "outputs": [],
   "source": [
    "import sklearn"
   ]
  },
  {
   "cell_type": "code",
   "execution_count": 190,
   "metadata": {
    "colab": {},
    "colab_type": "code",
    "id": "hkqk8X0kgSX-"
   },
   "outputs": [],
   "source": [
    "data = sklearn.utils.shuffle(data)"
   ]
  },
  {
   "cell_type": "code",
   "execution_count": 191,
   "metadata": {
    "colab": {},
    "colab_type": "code",
    "id": "cENghOQ8gSYB"
   },
   "outputs": [],
   "source": [
    "cut_id = int(0.75*len(data))\n",
    "train_data = data[:cut_id]\n",
    "test_data = data[cut_id+1:]"
   ]
  },
  {
   "cell_type": "code",
   "execution_count": 192,
   "metadata": {
    "colab": {
     "base_uri": "https://localhost:8080/",
     "height": 34
    },
    "colab_type": "code",
    "id": "ojlM8jcjgSYC",
    "outputId": "71d13e92-8d03-4365-b872-a352479cd3dd"
   },
   "outputs": [
    {
     "data": {
      "text/plain": [
       "2499"
      ]
     },
     "execution_count": 192,
     "metadata": {
      "tags": []
     },
     "output_type": "execute_result"
    }
   ],
   "source": [
    "len(train_data)"
   ]
  },
  {
   "cell_type": "code",
   "execution_count": 193,
   "metadata": {
    "colab": {
     "base_uri": "https://localhost:8080/",
     "height": 34
    },
    "colab_type": "code",
    "id": "6PkjH4xtgSYE",
    "outputId": "c834ecf9-5b94-4621-e236-48c59f8dc1e0"
   },
   "outputs": [
    {
     "data": {
      "text/plain": [
       "833"
      ]
     },
     "execution_count": 193,
     "metadata": {
      "tags": []
     },
     "output_type": "execute_result"
    }
   ],
   "source": [
    "len(test_data)"
   ]
  }
 ],
 "metadata": {
  "colab": {
   "collapsed_sections": [
    "Mm2akYJegSWp",
    "4t35zPhqgSW8",
    "vDIjT6Q0gSW_",
    "sxKywfetgSXK",
    "emxHSY8fgSXi",
    "IXMl9pNjgSXx",
    "x3bQ6cYugSX5"
   ],
   "name": "T2 - 3 - Data Cleaning - Agrupación de datos_colab.ipynb",
   "provenance": [],
   "toc_visible": true
  },
  "kernelspec": {
   "display_name": "Python 3",
   "language": "python",
   "name": "python3"
  },
  "language_info": {
   "codemirror_mode": {
    "name": "ipython",
    "version": 3
   },
   "file_extension": ".py",
   "mimetype": "text/x-python",
   "name": "python",
   "nbconvert_exporter": "python",
   "pygments_lexer": "ipython3",
   "version": "3.8.5"
  }
 },
 "nbformat": 4,
 "nbformat_minor": 1
}
