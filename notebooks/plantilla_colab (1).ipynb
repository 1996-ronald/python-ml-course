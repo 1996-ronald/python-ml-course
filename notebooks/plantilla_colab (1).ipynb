{
  "nbformat": 4,
  "nbformat_minor": 0,
  "metadata": {
    "kernelspec": {
      "display_name": "Python 3",
      "language": "python",
      "name": "python3"
    },
    "language_info": {
      "codemirror_mode": {
        "name": "ipython",
        "version": 3
      },
      "file_extension": ".py",
      "mimetype": "text/x-python",
      "name": "python",
      "nbconvert_exporter": "python",
      "pygments_lexer": "ipython3",
      "version": "3.5.5"
    },
    "colab": {
      "name": "plantilla_colab.ipynb",
      "provenance": [],
      "collapsed_sections": [],
      "toc_visible": true
    }
  },
  "cells": [
    {
      "cell_type": "markdown",
      "metadata": {
        "id": "puKuhMTDYSOZ",
        "colab_type": "text"
      },
      "source": [
        "# Clonamos el repositorio para obtener los dataSet"
      ]
    },
    {
      "cell_type": "code",
      "metadata": {
        "id": "Uk7PbIdKYSIz",
        "colab_type": "code",
        "colab": {}
      },
      "source": [
        "!git clone https://github.com/joanby/python-ml-course.git"
      ],
      "execution_count": null,
      "outputs": []
    },
    {
      "cell_type": "markdown",
      "metadata": {
        "id": "F9QCxSLWYSCo",
        "colab_type": "text"
      },
      "source": [
        "# Damos acceso a nuestro Drive"
      ]
    },
    {
      "cell_type": "code",
      "metadata": {
        "id": "JxP0rvkjYR85",
        "colab_type": "code",
        "colab": {}
      },
      "source": [
        "from google.colab import drive\n",
        "drive.mount('/content/drive')"
      ],
      "execution_count": null,
      "outputs": []
    },
    {
      "cell_type": "markdown",
      "metadata": {
        "id": "jeICtWYtYR3B",
        "colab_type": "text"
      },
      "source": [
        "# Test it"
      ]
    },
    {
      "cell_type": "code",
      "metadata": {
        "id": "5cxGKVrnYRxY",
        "colab_type": "code",
        "colab": {}
      },
      "source": [
        "!ls '/content/drive/My Drive' "
      ],
      "execution_count": null,
      "outputs": []
    },
    {
      "cell_type": "markdown",
      "metadata": {
        "id": "dbVO03VrYRrU",
        "colab_type": "text"
      },
      "source": [
        "# Google colab tools"
      ]
    },
    {
      "cell_type": "code",
      "metadata": {
        "id": "mMOsP11eYRls",
        "colab_type": "code",
        "colab": {}
      },
      "source": [
        "from google.colab import files # Para manejar los archivos y, por ejemplo, exportar a su navegador\n",
        "import glob # Para manejar los archivos y, por ejemplo, exportar a su navegador\n",
        "from google.colab import drive # Montar tu Google drive"
      ],
      "execution_count": null,
      "outputs": []
    },
    {
      "cell_type": "markdown",
      "metadata": {
        "id": "H_j7iuX7J1mR",
        "colab_type": "text"
      },
      "source": [
        "# Python3.8"
      ]
    },
    {
      "cell_type": "code",
      "metadata": {
        "id": "1tmAE_CtK3nk",
        "colab_type": "code",
        "colab": {}
      },
      "source": [
        "!python3 --version"
      ],
      "execution_count": null,
      "outputs": []
    },
    {
      "cell_type": "markdown",
      "metadata": {
        "id": "3a6f0kFwPMEs",
        "colab_type": "text"
      },
      "source": [
        "# Colab no permite actualizar la version de python, asi que utilizamos miniconda"
      ]
    },
    {
      "cell_type": "markdown",
      "metadata": {
        "id": "PDo7e5RdPU8z",
        "colab_type": "text"
      },
      "source": [
        "### Tener paciencia y esperar 1 minuto"
      ]
    },
    {
      "cell_type": "code",
      "metadata": {
        "id": "v8FTFqwNJ3Qy",
        "colab_type": "code",
        "colab": {}
      },
      "source": [
        "!wget -O mini.sh https://repo.anaconda.com/miniconda/Miniconda3-latest-Linux-x86_64.sh > /dev/null 2>&1\n",
        "!chmod +x mini.sh\n",
        "!bash ./mini.sh -b -f -p /usr/local > /dev/null 2>&1\n",
        "!conda install -q -y --prefix /usr/local jupyter > /dev/null 2>&1\n",
        "!python -m ipykernel install --name \"py38\" --user > /dev/null 2>&1"
      ],
      "execution_count": null,
      "outputs": []
    },
    {
      "cell_type": "markdown",
      "metadata": {
        "id": "C-M6G1zuSyEy",
        "colab_type": "text"
      },
      "source": [
        "### La celda de abajo, ejecutar cada vez que reinicies el kernel."
      ]
    },
    {
      "cell_type": "code",
      "metadata": {
        "id": "6XDvEAFFShjJ",
        "colab_type": "code",
        "colab": {}
      },
      "source": [
        "import sys\n",
        "#si usamos append nos coge la libreria de python3.6, ya que el so lee de forma secuencial la lista de librerias\n",
        "_ = (sys.path.insert(0,\"/usr/local/lib/python3.8/site-packages\")) #folder librerias python\n",
        "sys.path"
      ],
      "execution_count": null,
      "outputs": []
    },
    {
      "cell_type": "code",
      "metadata": {
        "id": "aJuxFngCSo_J",
        "colab_type": "code",
        "colab": {}
      },
      "source": [
        "!conda install numpy scipy matplotlib pandas --yes > /dev/null 2>&1\n",
        "!conda install -c conda-forge statsmodels  --yes > /dev/null 2>&1\n",
        "!conda install --channel conda-forge featuretools --yes > /dev/null 2>&1"
      ],
      "execution_count": null,
      "outputs": []
    },
    {
      "cell_type": "code",
      "metadata": {
        "id": "MxPWmzZ1J5hh",
        "colab_type": "code",
        "colab": {}
      },
      "source": [
        "!python3 --version"
      ],
      "execution_count": null,
      "outputs": []
    }
  ]
}